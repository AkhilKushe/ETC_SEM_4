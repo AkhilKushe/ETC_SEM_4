{
 "cells": [
  {
   "cell_type": "code",
   "execution_count": 1,
   "metadata": {},
   "outputs": [],
   "source": [
    "import cv2\n",
    "import matplotlib.pyplot as plt\n",
    "from ipywidgets import interact_manual, IntRangeSlider, interact\n",
    "import numpy as np\n",
    "\n",
    "#%matplotlib notebook"
   ]
  },
  {
   "cell_type": "code",
   "execution_count": 2,
   "metadata": {},
   "outputs": [],
   "source": [
    "img = cv2.imread('lena_gray.bmp')"
   ]
  },
  {
   "cell_type": "code",
   "execution_count": 3,
   "metadata": {},
   "outputs": [],
   "source": [
    "gray_lena = img[:, :, 0]"
   ]
  },
  {
   "cell_type": "markdown",
   "metadata": {},
   "source": [
    "# Image Croping"
   ]
  },
  {
   "cell_type": "code",
   "execution_count": 4,
   "metadata": {},
   "outputs": [
    {
     "data": {
      "application/vnd.jupyter.widget-view+json": {
       "model_id": "3497ab39584140df843b45f67311480d",
       "version_major": 2,
       "version_minor": 0
      },
      "text/plain": [
       "interactive(children=(IntRangeSlider(value=(0, 200), description='x_range', max=511), IntRangeSlider(value=(0,…"
      ]
     },
     "metadata": {},
     "output_type": "display_data"
    }
   ],
   "source": [
    "x_range = IntRangeSlider(value=(0, 200), min=0, max=511)\n",
    "y_range = IntRangeSlider(value=(0, 200), min=0, max=511)\n",
    "@interact_manual()\n",
    "def show_section(x_range=x_range, y_range=y_range):\n",
    "    fig, ax = plt.subplots()\n",
    "    sub_section = gray_lena[y_range[0]:y_range[1], x_range[0]:x_range[1]]\n",
    "    ax.imshow(sub_section, cmap='gray')\n"
   ]
  },
  {
   "cell_type": "markdown",
   "metadata": {},
   "source": [
    "# BitPlane"
   ]
  },
  {
   "cell_type": "code",
   "execution_count": 5,
   "metadata": {},
   "outputs": [
    {
     "data": {
      "application/vnd.jupyter.widget-view+json": {
       "model_id": "06c58dbbb2b04ed18509c1de5be4eb03",
       "version_major": 2,
       "version_minor": 0
      },
      "text/plain": [
       "interactive(children=(IntSlider(value=3, description='bit', max=7), Button(description='Run Interact', style=B…"
      ]
     },
     "metadata": {},
     "output_type": "display_data"
    }
   ],
   "source": [
    "@interact_manual()\n",
    "def bitplane(bit=(0, 7)):\n",
    "    plt.close()\n",
    "    fig, ax = plt.subplots(1, 2)\n",
    "    bit_plane = cv2.bitwise_and(gray_lena, 2**bit)\n",
    "    ax[0].imshow(gray_lena, cmap='gray')\n",
    "    ax[0].set_title(\"Original Image\")\n",
    "    ax[1].imshow(bit_plane, cmap='gray')\n",
    "    ax[1].set_title(\"Bit plane Image\")"
   ]
  },
  {
   "cell_type": "markdown",
   "metadata": {},
   "source": [
    "# Constrast"
   ]
  },
  {
   "cell_type": "code",
   "execution_count": 9,
   "metadata": {},
   "outputs": [],
   "source": [
    "def constrast(a, b, v, w, L):\n",
    "    def func(x):\n",
    "        if x >=0 and x < a:\n",
    "            return v*x/a\n",
    "        if x >= a and x < b:\n",
    "            return ((x-a)*(w-v)/(b-a)) + v\n",
    "        if x >= b and x < L:\n",
    "            return ((x-b)*(L-1-w)/(L-1-b)) + w\n",
    "    \n",
    "    f = np.vectorize(func)\n",
    "    return f\n",
    "    "
   ]
  },
  {
   "cell_type": "code",
   "execution_count": 7,
   "metadata": {},
   "outputs": [
    {
     "data": {
      "application/vnd.jupyter.widget-view+json": {
       "model_id": "f5a2bebc74e14b3abf1188d497c6f894",
       "version_major": 2,
       "version_minor": 0
      },
      "text/plain": [
       "interactive(children=(IntSlider(value=127, description='a', max=255), IntSlider(value=127, description='b', ma…"
      ]
     },
     "metadata": {},
     "output_type": "display_data"
    }
   ],
   "source": [
    "@interact_manual\n",
    "def constrast_img(a=(0, 255), b=(0, 255), v=(0, 255), w=(0, 255)):\n",
    "    plt.close()\n",
    "    L = 255\n",
    "    fig, ax = plt.subplots(1, 3)\n",
    "    x = np.arange(0, L-1, 2)\n",
    "    transform = constrast(a, b, v, w, L)\n",
    "    ax[0].plot(x, transform(x))\n",
    "    \n",
    "    ax[1].imshow(gray_lena, cmap=\"gray\")\n",
    "    ax[1].set_title(\"Original Image\")\n",
    "    ax[2].imshow(transform(gray_lena), cmap=\"gray\")\n",
    "    ax[2].set_title(\"Transformed Image\")\n",
    "    fig.set_figwidth(10)"
   ]
  },
  {
   "cell_type": "markdown",
   "metadata": {},
   "source": [
    "# Negative"
   ]
  },
  {
   "cell_type": "code",
   "execution_count": 8,
   "metadata": {},
   "outputs": [
    {
     "data": {
      "application/vnd.jupyter.widget-view+json": {
       "model_id": "b66d2e65c6dd452e9e83c9f1feceb16c",
       "version_major": 2,
       "version_minor": 0
      },
      "text/plain": [
       "interactive(children=(Button(description='Run Interact', style=ButtonStyle()), Output()), _dom_classes=('widge…"
      ]
     },
     "metadata": {},
     "output_type": "display_data"
    }
   ],
   "source": [
    "def negative(L):\n",
    "    f = lambda x: L-1-x\n",
    "    return f\n",
    "\n",
    "L = 255\n",
    "@interact_manual\n",
    "def negative_img():\n",
    "    plt.close()\n",
    "    fig, ax = plt.subplots(1, 3)\n",
    "    x = np.arange(0, L-1, 2)\n",
    "    transform = negative(L)\n",
    "    ax[0].plot(x, transform(x))\n",
    "    \n",
    "    ax[1].imshow(gray_lena, cmap=\"gray\")\n",
    "    ax[1].set_title(\"Original Image\")\n",
    "    ax[2].imshow(transform(gray_lena), cmap=\"gray\")\n",
    "    ax[1].set_title(\"Transformed Image\")\n",
    "    fig.set_figwidth(10)"
   ]
  },
  {
   "cell_type": "markdown",
   "metadata": {},
   "source": [
    "# Threshold"
   ]
  },
  {
   "cell_type": "code",
   "execution_count": 35,
   "metadata": {},
   "outputs": [
    {
     "data": {
      "application/vnd.jupyter.widget-view+json": {
       "model_id": "9e16513be10944499011d0360309129a",
       "version_major": 2,
       "version_minor": 0
      },
      "text/plain": [
       "interactive(children=(IntSlider(value=147, description='th', max=255, min=40), Button(description='Run Interac…"
      ]
     },
     "metadata": {},
     "output_type": "display_data"
    }
   ],
   "source": [
    "def threshold(L, a):\n",
    "    def func(x):\n",
    "        if x <= a:\n",
    "            return 0\n",
    "        else:\n",
    "            return L-1\n",
    "    \n",
    "    f = np.vectorize(func)\n",
    "    return f\n",
    "\n",
    "\n",
    "L = 256\n",
    "@interact_manual\n",
    "def negative_img(th=(40, L-1)):\n",
    "    plt.close()\n",
    "    fig, ax = plt.subplots(1, 3)\n",
    "    x = np.arange(0, L-1, 2)\n",
    "    transform = threshold(L, th)\n",
    "    ax[0].plot(x, transform(x))\n",
    "    \n",
    "    ax[1].imshow(gray_lena, cmap=\"gray\")\n",
    "    ax[1].set_title(\"Original Image\")\n",
    "    ax[2].imshow(transform(gray_lena), cmap=\"gray\")\n",
    "    ax[1].set_title(\"Transformed Image\")\n",
    "    fig.set_figwidth(10)"
   ]
  },
  {
   "cell_type": "markdown",
   "metadata": {},
   "source": [
    "# Gray level slicing"
   ]
  },
  {
   "cell_type": "code",
   "execution_count": 10,
   "metadata": {},
   "outputs": [
    {
     "data": {
      "application/vnd.jupyter.widget-view+json": {
       "model_id": "d188bb94faed4245812218d29494272a",
       "version_major": 2,
       "version_minor": 0
      },
      "text/plain": [
       "interactive(children=(IntRangeSlider(value=(10, 200), description='th', max=255), Dropdown(description='t', op…"
      ]
     },
     "metadata": {},
     "output_type": "display_data"
    }
   ],
   "source": [
    "def GLS(L, a, t):\n",
    "    def func(x):\n",
    "        if x in range(*a):\n",
    "            return L-1\n",
    "        else:\n",
    "            if t == 0:\n",
    "                return 0\n",
    "            else:\n",
    "                return x\n",
    "    \n",
    "    f = np.vectorize(func)\n",
    "    return f\n",
    "\n",
    "\n",
    "L = 256\n",
    "sl = IntRangeSlider(value=(10, 200), min=0, max=255)\n",
    "@interact_manual\n",
    "def negative_img(th=sl, t=[0, 1]):\n",
    "    plt.close()\n",
    "    fig, ax = plt.subplots(1, 3)\n",
    "    x = np.arange(0, L-1, 2)\n",
    "    transform = GLS(L, th, t)\n",
    "    ax[0].plot(x, transform(x))\n",
    "    \n",
    "    ax[1].imshow(gray_lena, cmap=\"gray\")\n",
    "    ax[1].set_title(\"Original Image\")\n",
    "    ax[2].imshow(transform(gray_lena), cmap=\"gray\")\n",
    "    ax[1].set_title(\"Transformed Image\")\n",
    "    fig.set_figwidth(10)"
   ]
  },
  {
   "cell_type": "markdown",
   "metadata": {},
   "source": [
    "# Hidden Image"
   ]
  },
  {
   "cell_type": "code",
   "execution_count": 6,
   "metadata": {},
   "outputs": [],
   "source": [
    "secret_msg = cv2.imread('hidden_msg.bmp')\n",
    "secret_msg = secret_msg[:, :, 0]\n",
    "\n",
    "secret_msg = (secret_msg > 100)*1"
   ]
  },
  {
   "cell_type": "code",
   "execution_count": 7,
   "metadata": {},
   "outputs": [
    {
     "data": {
      "text/plain": [
       "<matplotlib.image.AxesImage at 0x7f473d60aa90>"
      ]
     },
     "execution_count": 7,
     "metadata": {},
     "output_type": "execute_result"
    },
    {
     "data": {
      "image/png": "[encoded data removed]",
      "text/plain": [
       "<Figure size 432x288 with 1 Axes>"
      ]
     },
     "metadata": {
      "needs_background": "light"
     },
     "output_type": "display_data"
    }
   ],
   "source": [
    "plt.close()\n",
    "plt.imshow(secret_msg, cmap=\"gray\")"
   ]
  },
  {
   "cell_type": "code",
   "execution_count": 8,
   "metadata": {},
   "outputs": [
    {
     "data": {
      "application/vnd.jupyter.widget-view+json": {
       "model_id": "99da2283e7d946b2ba97d8c419ac8689",
       "version_major": 2,
       "version_minor": 0
      },
      "text/plain": [
       "interactive(children=(IntSlider(value=3, description='bit', max=7), Button(description='Run Interact', style=B…"
      ]
     },
     "metadata": {},
     "output_type": "display_data"
    }
   ],
   "source": [
    "@interact_manual()\n",
    "def bitplane(bit=(0, 7)):\n",
    "    plt.close()\n",
    "    fig, ax = plt.subplots(1, 2)\n",
    "    coded_img = cv2.bitwise_and(gray_lena, 254) + secret_msg\n",
    "    bit_plane = cv2.bitwise_and(coded_img, 2**bit)\n",
    "    ax[0].imshow(coded_img, cmap='gray')\n",
    "    ax[0].set_title(\"Coded Image\")\n",
    "    ax[1].imshow(bit_plane, cmap='gray')\n",
    "    ax[1].set_title(\"Bit plane Image\")"
   ]
  },
  {
   "cell_type": "code",
   "execution_count": null,
   "metadata": {},
   "outputs": [],
   "source": []
  }
 ],
 "metadata": {
  "interpreter": {
   "hash": "ee5cc6fef2d70a7e71ee3826687cbd150f18158e0b1eef11d4f4f92bb920e304"
  },
  "kernelspec": {
   "display_name": "Python 3 (ipykernel)",
   "language": "python",
   "name": "python3"
  },
  "language_info": {
   "codemirror_mode": {
    "name": "ipython",
    "version": 3
   },
   "file_extension": ".py",
   "mimetype": "text/x-python",
   "name": "python",
   "nbconvert_exporter": "python",
   "pygments_lexer": "ipython3",
   "version": "3.9.7"
  }
 },
 "nbformat": 4,
 "nbformat_minor": 2
}
