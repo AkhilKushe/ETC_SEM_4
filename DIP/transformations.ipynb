{
 "cells": [
  {
   "cell_type": "code",
   "execution_count": 1,
   "source": [
    "import cv2\r\n",
    "import matplotlib.pyplot as plt\r\n",
    "from ipywidgets import interact_manual, IntRangeSlider, interact\r\n",
    "import numpy as np\r\n",
    "\r\n",
    "%matplotlib ipympl"
   ],
   "outputs": [],
   "metadata": {}
  },
  {
   "cell_type": "code",
   "execution_count": 2,
   "source": [
    "img = cv2.imread('lena_gray.bmp')"
   ],
   "outputs": [],
   "metadata": {}
  },
  {
   "cell_type": "code",
   "execution_count": 3,
   "source": [
    "gray_lena = img[:, :, 0]"
   ],
   "outputs": [],
   "metadata": {}
  },
  {
   "cell_type": "markdown",
   "source": [
    "# Image Croping"
   ],
   "metadata": {}
  },
  {
   "cell_type": "code",
   "execution_count": 6,
   "source": [
    "x_range = IntRangeSlider(value=(0, 200), min=0, max=511)\r\n",
    "y_range = IntRangeSlider(value=(0, 200), min=0, max=511)\r\n",
    "@interact_manual()\r\n",
    "def show_section(x_range=x_range, y_range=y_range):\r\n",
    "    fig, ax = plt.subplots()\r\n",
    "    sub_section = gray_lena[y_range[0]:y_range[1], x_range[0]:x_range[1]]\r\n",
    "    ax.imshow(sub_section, cmap='gray')\r\n"
   ],
   "outputs": [
    {
     "output_type": "display_data",
     "data": {
      "application/vnd.jupyter.widget-view+json": {
       "version_major": 2,
       "version_minor": 0,
       "model_id": "3a126c9d4bb849d9be4c18fdd3228170"
      },
      "text/plain": [
       "interactive(children=(IntRangeSlider(value=(0, 200), description='x_range', max=511), IntRangeSlider(value=(0,…"
      ]
     },
     "metadata": {}
    }
   ],
   "metadata": {}
  },
  {
   "cell_type": "markdown",
   "source": [
    "# BitPlane"
   ],
   "metadata": {}
  },
  {
   "cell_type": "code",
   "execution_count": 9,
   "source": [
    "@interact_manual()\r\n",
    "def bitplane(bit=(0, 7)):\r\n",
    "    plt.close()\r\n",
    "    fig, ax = plt.subplots(1, 2)\r\n",
    "    bit_plane = cv2.bitwise_and(gray_lena, 2**bit)\r\n",
    "    ax[0].imshow(gray_lena, cmap='gray')\r\n",
    "    ax[0].set_title(\"Original Image\")\r\n",
    "    ax[1].imshow(bit_plane, cmap='gray')\r\n",
    "    ax[1].set_title(\"Bit plane Image\")"
   ],
   "outputs": [
    {
     "output_type": "display_data",
     "data": {
      "application/vnd.jupyter.widget-view+json": {
       "version_major": 2,
       "version_minor": 0,
       "model_id": "6823c30e23f347c49d4efa6f981b9fda"
      },
      "text/plain": [
       "interactive(children=(IntSlider(value=3, description='bit', max=7), Button(description='Run Interact', style=B…"
      ]
     },
     "metadata": {}
    }
   ],
   "metadata": {}
  },
  {
   "cell_type": "markdown",
   "source": [
    "# Constrast"
   ],
   "metadata": {}
  },
  {
   "cell_type": "code",
   "execution_count": 7,
   "source": [
    "def constrast(a, b, v, w, L):\r\n",
    "    def func(x):\r\n",
    "        if x >=0 and x < a:\r\n",
    "            return v*x/a\r\n",
    "        if x >= a and x < b:\r\n",
    "            return ((x-a)*(w-v)/(b-a)) + v\r\n",
    "        if x >= b and x < L:\r\n",
    "            return ((x-b)*(L-1-w)/(L-1-b)) + w\r\n",
    "    \r\n",
    "    f = np.vectorize(func)\r\n",
    "    return f\r\n",
    "    "
   ],
   "outputs": [],
   "metadata": {}
  },
  {
   "cell_type": "code",
   "execution_count": 28,
   "source": [
    "@interact_manual\r\n",
    "def constrast_img(a=(0, 255), b=(0, 255), v=(0, 255), w=(0, 255)):\r\n",
    "    plt.close()\r\n",
    "    L = 255\r\n",
    "    fig, ax = plt.subplots(1, 3)\r\n",
    "    x = np.arange(0, L-1, 2)\r\n",
    "    transform = constrast(a, b, v, w, L)\r\n",
    "    ax[0].plot(x, transform(x))\r\n",
    "    \r\n",
    "    ax[1].imshow(gray_lena, cmap=\"gray\")\r\n",
    "    ax[1].set_title(\"Original Image\")\r\n",
    "    ax[2].imshow(transform(gray_lena), cmap=\"gray\")\r\n",
    "    ax[2].set_title(\"Transformed Image\")\r\n",
    "    fig.set_figwidth(10)"
   ],
   "outputs": [
    {
     "output_type": "display_data",
     "data": {
      "application/vnd.jupyter.widget-view+json": {
       "version_major": 2,
       "version_minor": 0,
       "model_id": "4a42912edda94bbc9daee4e4329b394d"
      },
      "text/plain": [
       "interactive(children=(IntSlider(value=127, description='a', max=255), IntSlider(value=127, description='b', ma…"
      ]
     },
     "metadata": {}
    }
   ],
   "metadata": {}
  },
  {
   "cell_type": "markdown",
   "source": [
    "# Negative"
   ],
   "metadata": {}
  },
  {
   "cell_type": "code",
   "execution_count": 26,
   "source": [
    "def negative(L):\r\n",
    "    f = lambda x: L-1-x\r\n",
    "    return f\r\n",
    "\r\n",
    "L = 255\r\n",
    "@interact_manual\r\n",
    "def negative_img():\r\n",
    "    plt.close()\r\n",
    "    fig, ax = plt.subplots(1, 3)\r\n",
    "    x = np.arange(0, L-1, 2)\r\n",
    "    transform = negative(L)\r\n",
    "    ax[0].plot(x, transform(x))\r\n",
    "    \r\n",
    "    ax[1].imshow(gray_lena, cmap=\"gray\")\r\n",
    "    ax[1].set_title(\"Original Image\")\r\n",
    "    ax[2].imshow(transform(gray_lena), cmap=\"gray\")\r\n",
    "    ax[1].set_title(\"Transformed Image\")\r\n",
    "    fig.set_figwidth(10)"
   ],
   "outputs": [
    {
     "output_type": "display_data",
     "data": {
      "application/vnd.jupyter.widget-view+json": {
       "version_major": 2,
       "version_minor": 0,
       "model_id": "82a411e75a174673af66cb5d7b9b544a"
      },
      "text/plain": [
       "interactive(children=(Button(description='Run Interact', style=ButtonStyle()), Output()), _dom_classes=('widge…"
      ]
     },
     "metadata": {}
    }
   ],
   "metadata": {}
  },
  {
   "cell_type": "markdown",
   "source": [
    "# Threshold"
   ],
   "metadata": {}
  },
  {
   "cell_type": "code",
   "execution_count": 44,
   "source": [
    "def threshold(L, a):\r\n",
    "    def func(x):\r\n",
    "        if x <= a:\r\n",
    "            return 0\r\n",
    "        else:\r\n",
    "            return L-1\r\n",
    "    \r\n",
    "    f = np.vectorize(func)\r\n",
    "    return f\r\n",
    "\r\n",
    "\r\n",
    "L = 256\r\n",
    "@interact_manual\r\n",
    "def negative_img(th=(40, L-1)):\r\n",
    "    plt.close()\r\n",
    "    fig, ax = plt.subplots(1, 3)\r\n",
    "    x = np.arange(0, L-1, 2)\r\n",
    "    transform = threshold(L, th)\r\n",
    "    ax[0].plot(x, transform(x))\r\n",
    "    \r\n",
    "    ax[1].imshow(gray_lena, cmap=\"gray\")\r\n",
    "    ax[1].set_title(\"Original Image\")\r\n",
    "    ax[2].imshow(transform(gray_lena), cmap=\"gray\")\r\n",
    "    ax[1].set_title(\"Transformed Image\")\r\n",
    "    fig.set_figwidth(10)"
   ],
   "outputs": [
    {
     "output_type": "display_data",
     "data": {
      "application/vnd.jupyter.widget-view+json": {
       "version_major": 2,
       "version_minor": 0,
       "model_id": "3988916eb13049fa832e6f03f20d1cb6"
      },
      "text/plain": [
       "interactive(children=(IntSlider(value=147, description='th', max=255, min=40), Button(description='Run Interac…"
      ]
     },
     "metadata": {}
    }
   ],
   "metadata": {}
  },
  {
   "cell_type": "markdown",
   "source": [
    "# Gray level slicing"
   ],
   "metadata": {}
  },
  {
   "cell_type": "code",
   "execution_count": 31,
   "source": [
    "def GLS(L, a, t):\r\n",
    "    def func(x):\r\n",
    "        if x in range(*a):\r\n",
    "            return L-1\r\n",
    "        else:\r\n",
    "            if t == 0:\r\n",
    "                return 0\r\n",
    "            else:\r\n",
    "                return x\r\n",
    "    \r\n",
    "    f = np.vectorize(func)\r\n",
    "    return f\r\n",
    "\r\n",
    "\r\n",
    "L = 256\r\n",
    "sl = IntRangeSlider(value=(10, 200), min=0, max=255)\r\n",
    "@interact_manual\r\n",
    "def negative_img(th=sl, t=[0, 1]):\r\n",
    "    plt.close()\r\n",
    "    fig, ax = plt.subplots(1, 3)\r\n",
    "    x = np.arange(0, L-1, 2)\r\n",
    "    transform = GLS(L, th, t)\r\n",
    "    ax[0].plot(x, transform(x))\r\n",
    "    \r\n",
    "    ax[1].imshow(gray_lena, cmap=\"gray\")\r\n",
    "    ax[1].set_title(\"Original Image\")\r\n",
    "    ax[2].imshow(transform(gray_lena), cmap=\"gray\")\r\n",
    "    ax[1].set_title(\"Transformed Image\")\r\n",
    "    fig.set_figwidth(10)"
   ],
   "outputs": [
    {
     "output_type": "display_data",
     "data": {
      "application/vnd.jupyter.widget-view+json": {
       "version_major": 2,
       "version_minor": 0,
       "model_id": "c07520ab9ca14477803bfee4c3bcbbd8"
      },
      "text/plain": [
       "interactive(children=(IntRangeSlider(value=(10, 200), description='th', max=255), Dropdown(description='t', op…"
      ]
     },
     "metadata": {}
    }
   ],
   "metadata": {}
  },
  {
   "cell_type": "markdown",
   "source": [
    "# Hidden Image"
   ],
   "metadata": {}
  },
  {
   "cell_type": "code",
   "execution_count": 26,
   "source": [
    "secret_msg = cv2.imread('hidden_msg.bmp')\r\n",
    "secret_msg = secret_msg[:, :, 0]\r\n",
    "\r\n",
    "secret_msg = (secret_msg > 100)*1"
   ],
   "outputs": [],
   "metadata": {}
  },
  {
   "cell_type": "code",
   "execution_count": 27,
   "source": [
    "plt.close()\r\n",
    "plt.imshow(secret_msg, cmap=\"gray\")"
   ],
   "outputs": [
    {
     "output_type": "display_data",
     "data": {
      "application/vnd.jupyter.widget-view+json": {
       "version_major": 2,
       "version_minor": 0,
       "model_id": "4a25a4261c6a452896a04e9b1a08f828"
      },
      "text/plain": [
       "Canvas(toolbar=Toolbar(toolitems=[('Home', 'Reset original view', 'home', 'home'), ('Back', 'Back to previous …"
      ]
     },
     "metadata": {}
    },
    {
     "output_type": "execute_result",
     "data": {
      "text/plain": [
       "<matplotlib.image.AxesImage at 0x1bc9e3d4dc0>"
      ]
     },
     "metadata": {},
     "execution_count": 27
    }
   ],
   "metadata": {}
  },
  {
   "cell_type": "code",
   "execution_count": 30,
   "source": [
    "@interact_manual()\r\n",
    "def bitplane(bit=(0, 7)):\r\n",
    "    plt.close()\r\n",
    "    fig, ax = plt.subplots(1, 2)\r\n",
    "    coded_img = cv2.bitwise_and(gray_lena, 254) + secret_msg\r\n",
    "    bit_plane = cv2.bitwise_and(coded_img, 2**bit)\r\n",
    "    ax[0].imshow(coded_img, cmap='gray')\r\n",
    "    ax[0].set_title(\"Coded Image\")\r\n",
    "    ax[1].imshow(bit_plane, cmap='gray')\r\n",
    "    ax[1].set_title(\"Bit plane Image\")"
   ],
   "outputs": [
    {
     "output_type": "display_data",
     "data": {
      "application/vnd.jupyter.widget-view+json": {
       "version_major": 2,
       "version_minor": 0,
       "model_id": "2ae3c1108e5c4c2b8e950e2ee3546bda"
      },
      "text/plain": [
       "interactive(children=(IntSlider(value=3, description='bit', max=7), Button(description='Run Interact', style=B…"
      ]
     },
     "metadata": {}
    }
   ],
   "metadata": {}
  }
 ],
 "metadata": {
  "orig_nbformat": 4,
  "language_info": {
   "name": "python",
   "version": "3.9.5",
   "mimetype": "text/x-python",
   "codemirror_mode": {
    "name": "ipython",
    "version": 3
   },
   "pygments_lexer": "ipython3",
   "nbconvert_exporter": "python",
   "file_extension": ".py"
  },
  "kernelspec": {
   "name": "python3",
   "display_name": "Python 3.9.5 64-bit"
  },
  "interpreter": {
   "hash": "ee5cc6fef2d70a7e71ee3826687cbd150f18158e0b1eef11d4f4f92bb920e304"
  }
 },
 "nbformat": 4,
 "nbformat_minor": 2
}