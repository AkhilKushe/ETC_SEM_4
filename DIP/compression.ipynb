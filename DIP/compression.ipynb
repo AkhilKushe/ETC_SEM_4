{
 "cells": [
  {
   "cell_type": "code",
   "execution_count": 1,
   "metadata": {},
   "outputs": [],
   "source": [
    "import numpy as np"
   ]
  },
  {
   "cell_type": "code",
   "execution_count": 25,
   "metadata": {},
   "outputs": [],
   "source": [
    "s1 = \"thisisthe\"\n",
    "s2 = [39, 39, 126, 126,39, 39, 126, 126,39, 39, 126, 126,39, 39, 126, 126]"
   ]
  },
  {
   "cell_type": "code",
   "execution_count": 60,
   "metadata": {},
   "outputs": [],
   "source": [
    "def LWZ(s, dic):\n",
    "    encoded_bits = []\n",
    "    current = s[0]\n",
    "    c = 256\n",
    "    for i in range(len(s)-1):\n",
    "        nxt = s[i+1]\n",
    "        temp = (current, nxt)\n",
    "        if temp in dic:\n",
    "            current = dic[temp]\n",
    "            continue\n",
    "        else:\n",
    "            dic[temp] = c\n",
    "            c += 1\n",
    "            encoded_bits.append(current)\n",
    "            current = nxt\n",
    "    \n",
    "    encoded_bits.append(s[-1])\n",
    "    return encoded_bits\n"
   ]
  },
  {
   "cell_type": "code",
   "execution_count": 155,
   "metadata": {},
   "outputs": [],
   "source": [
    "def LWZ_decode(s, dic):\n",
    "    decoded_bits = []\n",
    "    current = s[0]\n",
    "    c = 256\n",
    "    for i in range(len(s)-1):\n",
    "  \n",
    "    \n",
    "    decoded_bits.append(s[-1])\n",
    "    return decoded_bits\n"
   ]
  },
  {
   "cell_type": "code",
   "execution_count": 156,
   "metadata": {},
   "outputs": [],
   "source": [
    "s1_encoded = list(s1.encode())\n",
    "s1_dict = {ord(i):ord(i) for i in s1}\n",
    "s2_dict = {i:i for i in s2}"
   ]
  },
  {
   "cell_type": "code",
   "execution_count": 157,
   "metadata": {},
   "outputs": [
    {
     "data": {
      "text/plain": [
       "[116, 104, 105, 115, 258, 256, 101]"
      ]
     },
     "execution_count": 157,
     "metadata": {},
     "output_type": "execute_result"
    }
   ],
   "source": [
    "ec = LWZ(s1_encoded, s1_dict)\n",
    "ec"
   ]
  },
  {
   "cell_type": "code",
   "execution_count": 158,
   "metadata": {},
   "outputs": [
    {
     "data": {
      "text/plain": [
       "{116: 116, 104: 104, 105: 105, 115: 115, 101: 101}"
      ]
     },
     "execution_count": 158,
     "metadata": {},
     "output_type": "execute_result"
    }
   ],
   "source": [
    "s1_dict = {ord(i):ord(i) for i in s1}\n",
    "s2_dict = {i:i for i in s2}\n",
    "s1_dict"
   ]
  },
  {
   "cell_type": "code",
   "execution_count": 159,
   "metadata": {},
   "outputs": [
    {
     "data": {
      "text/plain": [
       "[116, 104, 105, 115, 105, 116, 101]"
      ]
     },
     "execution_count": 159,
     "metadata": {},
     "output_type": "execute_result"
    }
   ],
   "source": [
    "LWZ_decode(ec, s1_dict)"
   ]
  },
  {
   "cell_type": "code",
   "execution_count": 160,
   "metadata": {},
   "outputs": [
    {
     "data": {
      "text/plain": [
       "[116, 104, 105, 115, 105, 115, 116, 104, 101]"
      ]
     },
     "execution_count": 160,
     "metadata": {},
     "output_type": "execute_result"
    }
   ],
   "source": [
    "s1_encoded"
   ]
  },
  {
   "cell_type": "code",
   "execution_count": 64,
   "metadata": {},
   "outputs": [
    {
     "data": {
      "text/plain": [
       "[39, 39, 126, 126, 256, 258, 260, 259, 257, 126]"
      ]
     },
     "execution_count": 64,
     "metadata": {},
     "output_type": "execute_result"
    }
   ],
   "source": [
    "LWZ(s2, s2_dict)"
   ]
  },
  {
   "cell_type": "code",
   "execution_count": 65,
   "metadata": {},
   "outputs": [
    {
     "data": {
      "text/plain": [
       "{39: 39,\n",
       " 126: 126,\n",
       " (39, 39): 256,\n",
       " (39, 126): 257,\n",
       " (126, 126): 258,\n",
       " (126, 39): 259,\n",
       " (256, 126): 260,\n",
       " (258, 39): 261,\n",
       " (260, 126): 262,\n",
       " (259, 39): 263,\n",
       " (257, 126): 264}"
      ]
     },
     "execution_count": 65,
     "metadata": {},
     "output_type": "execute_result"
    }
   ],
   "source": [
    "s2_dict"
   ]
  },
  {
   "cell_type": "code",
   "execution_count": 66,
   "metadata": {},
   "outputs": [
    {
     "ename": "SyntaxError",
     "evalue": "invalid syntax (Temp/ipykernel_12092/708257018.py, line 1)",
     "output_type": "error",
     "traceback": [
      "\u001b[1;36m  File \u001b[1;32m\"C:\\Users\\AKHILK~1\\AppData\\Local\\Temp/ipykernel_12092/708257018.py\"\u001b[1;36m, line \u001b[1;32m1\u001b[0m\n\u001b[1;33m    try 1/0 except 2\u001b[0m\n\u001b[1;37m        ^\u001b[0m\n\u001b[1;31mSyntaxError\u001b[0m\u001b[1;31m:\u001b[0m invalid syntax\n"
     ]
    }
   ],
   "source": [
    "try 1/0 except 2"
   ]
  },
  {
   "cell_type": "code",
   "execution_count": null,
   "metadata": {},
   "outputs": [],
   "source": []
  }
 ],
 "metadata": {
  "interpreter": {
   "hash": "ee5cc6fef2d70a7e71ee3826687cbd150f18158e0b1eef11d4f4f92bb920e304"
  },
  "kernelspec": {
   "display_name": "Python 3.9.5 64-bit",
   "language": "python",
   "name": "python3"
  },
  "language_info": {
   "codemirror_mode": {
    "name": "ipython",
    "version": 3
   },
   "file_extension": ".py",
   "mimetype": "text/x-python",
   "name": "python",
   "nbconvert_exporter": "python",
   "pygments_lexer": "ipython3",
   "version": "3.9.5"
  },
  "orig_nbformat": 4
 },
 "nbformat": 4,
 "nbformat_minor": 2
}
