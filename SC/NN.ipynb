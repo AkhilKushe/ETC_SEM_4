{
 "cells": [
  {
   "cell_type": "code",
   "execution_count": 6,
   "source": [
    "import numpy as np"
   ],
   "outputs": [],
   "metadata": {}
  },
  {
   "cell_type": "code",
   "execution_count": 72,
   "source": [
    "class Neuron:\r\n",
    "    def __init__(self, n_inputs, weights, activation):\r\n",
    "        self.n_inputs = n_inputs\r\n",
    "        self.weights = np.array(weights, dtype=np.float32)\r\n",
    "        self.activation = activation\r\n",
    "    \r\n",
    "    def __str__(self):\r\n",
    "        return f\"<Neuron(n_inputs={self.n_inputs}, weights={self.weights}, activation={self.activation})>\"\r\n",
    "    \r\n",
    "    def get_net(self, inputs):\r\n",
    "        if len(inputs) != self.n_inputs:\r\n",
    "            print(\"Expected input of length : %d, got %d\", self.n_inputs, len(inputs))\r\n",
    "        \r\n",
    "        inputs = np.array(inputs, dtype=np.float32)\r\n",
    "\r\n",
    "        net = self.weights.T.dot(inputs)\r\n",
    "\r\n",
    "        return net\r\n",
    "\r\n",
    "    \r\n",
    "    def get_output(self, inputs):\r\n",
    "        if len(inputs) != self.n_inputs:\r\n",
    "            print(\"Expected input of length : %d, got %d\", self.n_inputs, len(inputs))\r\n",
    "        \r\n",
    "        net = self.get_net(inputs)\r\n",
    "\r\n",
    "        output = self.activation(net)\r\n",
    "\r\n",
    "        return output"
   ],
   "outputs": [],
   "metadata": {}
  },
  {
   "cell_type": "code",
   "execution_count": 73,
   "source": [
    "class Layer:\r\n",
    "    def __init__(self, n_inputs, neurons):\r\n",
    "        self.n_inputs = n_inputs\r\n",
    "        for neuron in neurons:\r\n",
    "            if neuron.n_inputs != n_inputs:\r\n",
    "                raise f\"Expected neuron of input length {self.n_inputs} got {neuron.n_inputs}\"\r\n",
    "        self.neurons = neurons\r\n",
    "        self.n_outputs = len(neurons)\r\n",
    "    \r\n",
    "    def get_net(self, inputs):\r\n",
    "        if len(inputs) != self.n_inputs:\r\n",
    "            print(\"Expected input of length : %d, got %d\", self.n_inputs, len(inputs))\r\n",
    "        \r\n",
    "        inputs = np.array(inputs, dtype=np.float32)\r\n",
    "\r\n",
    "        nets = []\r\n",
    "        for neuron in self.neurons:\r\n",
    "            nets.append(neuron.get_net(inputs))\r\n",
    "\r\n",
    "        nets = np.array(nets)\r\n",
    "        return nets\r\n",
    "    \r\n",
    "    def get_outputs(self, inputs):\r\n",
    "        if len(inputs) != self.n_inputs:\r\n",
    "            print(\"Expected input of length : %d, got %d\", self.n_inputs, len(inputs))\r\n",
    "        \r\n",
    "        inputs = np.array(inputs, dtype=np.float32)\r\n",
    "\r\n",
    "        outputs = []\r\n",
    "        for neuron in self.neurons:\r\n",
    "            outputs.append(neuron.get_output(inputs))\r\n",
    "\r\n",
    "        outputs = np.array(outputs)\r\n",
    "        return outputs\r\n",
    "        "
   ],
   "outputs": [],
   "metadata": {}
  },
  {
   "cell_type": "code",
   "execution_count": 74,
   "source": [
    "class Sequential:\r\n",
    "    def __init__(self, layers):\r\n",
    "        self.layers = layers\r\n",
    "        for i in range(len(self.layers)-1):\r\n",
    "            if self.layers[i].n_outputs != self.layers[i+1].n_inputs:\r\n",
    "                raise f\"The output of {i}th neuron does not match the input of {i+1}th neuron\"\r\n",
    "    \r\n",
    "    def get_outputs(self, inputs):\r\n",
    "        output = np.array(inputs)\r\n",
    "        for layer in self.layers:\r\n",
    "            output = layer.get_outputs(output)\r\n",
    "        \r\n",
    "        return output"
   ],
   "outputs": [],
   "metadata": {}
  },
  {
   "cell_type": "code",
   "execution_count": 75,
   "source": [
    "def threshold(val):\r\n",
    "    def func(x):\r\n",
    "        if x >= val:\r\n",
    "            return 1\r\n",
    "        else:\r\n",
    "            return 0\r\n",
    "    return func\r\n"
   ],
   "outputs": [],
   "metadata": {}
  },
  {
   "cell_type": "code",
   "execution_count": 76,
   "source": [
    "test_inputs = [(0, 0), (0, 1), (1, 0), (1, 1)]"
   ],
   "outputs": [],
   "metadata": {}
  },
  {
   "cell_type": "code",
   "execution_count": 80,
   "source": [
    "AND = Neuron(2, [1, 1], threshold(2))\r\n",
    "OR = Neuron(2, [1, 1], threshold(1))\r\n",
    "NOT = Neuron(1, [-1], threshold(0))\r\n",
    "\r\n",
    "\r\n",
    "n1 = Neuron(2, [1, -1], threshold(1))\r\n",
    "n2 = Neuron(2, [-1, 1], threshold(1))\r\n",
    "\r\n",
    "l1 = Layer(2, [n1, n2])\r\n",
    "l2 = Layer(2, [OR])\r\n",
    "\r\n",
    "XOR = Sequential([l1, l2])"
   ],
   "outputs": [],
   "metadata": {}
  },
  {
   "cell_type": "code",
   "execution_count": 81,
   "source": [
    "for i in test_inputs:\r\n",
    "    print(i, XOR.get_outputs(i))"
   ],
   "outputs": [
    {
     "output_type": "stream",
     "name": "stdout",
     "text": [
      "(0, 0) [0]\n",
      "(0, 1) [1]\n",
      "(1, 0) [1]\n",
      "(1, 1) [0]\n"
     ]
    }
   ],
   "metadata": {}
  }
 ],
 "metadata": {
  "orig_nbformat": 4,
  "language_info": {
   "name": "python",
   "version": "3.7.7",
   "mimetype": "text/x-python",
   "codemirror_mode": {
    "name": "ipython",
    "version": 3
   },
   "pygments_lexer": "ipython3",
   "nbconvert_exporter": "python",
   "file_extension": ".py"
  },
  "kernelspec": {
   "name": "python3",
   "display_name": "Python 3.7.7 64-bit ('test_env': venv)"
  },
  "interpreter": {
   "hash": "b9cae414bd143b6c73fec62d12d5933574e39bcbdb384460145d720608026a03"
  }
 },
 "nbformat": 4,
 "nbformat_minor": 2
}