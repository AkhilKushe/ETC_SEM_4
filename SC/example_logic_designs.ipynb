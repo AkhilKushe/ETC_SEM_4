{
 "cells": [
  {
   "cell_type": "code",
   "execution_count": 4,
   "source": [
    "import numpy as np\r\n",
    "from NN import *\r\n",
    "from activations import bi_threshold, threshold"
   ],
   "outputs": [],
   "metadata": {}
  },
  {
   "cell_type": "markdown",
   "source": [
    "# Basic Gates"
   ],
   "metadata": {}
  },
  {
   "cell_type": "code",
   "execution_count": 5,
   "source": [
    "test_inputs = [(0, 0), (0, 1), (1, 0), (1, 1)]"
   ],
   "outputs": [],
   "metadata": {}
  },
  {
   "cell_type": "code",
   "execution_count": 6,
   "source": [
    "AND = Neuron(2, [1, 1], threshold(2))\r\n",
    "OR = Neuron(2, [1, 1], threshold(1))\r\n",
    "NOT = Neuron(1, [-1], threshold(0))\r\n",
    "\r\n",
    "\r\n",
    "n1 = Neuron(2, [1, -1], threshold(1))\r\n",
    "n2 = Neuron(2, [-1, 1], threshold(1))\r\n",
    "\r\n",
    "l1 = Layer(2, [n1, n2])\r\n",
    "l2 = Layer(2, [OR])\r\n",
    "\r\n",
    "XOR = Sequential([l1, l2])"
   ],
   "outputs": [],
   "metadata": {}
  },
  {
   "cell_type": "code",
   "execution_count": 7,
   "source": [
    "for i in test_inputs:\r\n",
    "    print(i, XOR.get_outputs(i))"
   ],
   "outputs": [
    {
     "output_type": "stream",
     "name": "stdout",
     "text": [
      "(0, 0) [0]\n",
      "(0, 1) [1]\n",
      "(1, 0) [1]\n",
      "(1, 1) [0]\n"
     ]
    }
   ],
   "metadata": {}
  },
  {
   "cell_type": "markdown",
   "source": [
    "# Class problems"
   ],
   "metadata": {}
  },
  {
   "cell_type": "markdown",
   "source": [
    "## 1, F = $x + y + \\bar{x} \\bar{z}$"
   ],
   "metadata": {}
  },
  {
   "cell_type": "code",
   "execution_count": 19,
   "source": [
    "n1 = Neuron(3, [1, 0, 0], bi_threshold(0))\r\n",
    "n2 = Neuron(3, [0, 1, 0], bi_threshold(0))\r\n",
    "n3 = Neuron(3, [-1, 0, -1], bi_threshold(1))\r\n",
    "\r\n",
    "n4 = Neuron(3, [1, 1, 1], bi_threshold(-2))\r\n",
    "\r\n",
    "l1 = Layer(3, [n1, n2, n3])\r\n",
    "l2 = Layer(3, [n4])\r\n",
    "\r\n",
    "network = Sequential([l1, l2])                  # F = x + y + not(x)not(z)"
   ],
   "outputs": [],
   "metadata": {}
  },
  {
   "cell_type": "code",
   "execution_count": 21,
   "source": [
    "t = (-1, 1)\r\n",
    "for x in t:\r\n",
    "    for y in t:\r\n",
    "        for z in t:\r\n",
    "            print((x, y, z), network.get_outputs([x, y, z]))"
   ],
   "outputs": [
    {
     "output_type": "stream",
     "name": "stdout",
     "text": [
      "(-1, -1, -1) [1]\n",
      "(-1, -1, 1) [-1]\n",
      "(-1, 1, -1) [1]\n",
      "(-1, 1, 1) [1]\n",
      "(1, -1, -1) [1]\n",
      "(1, -1, 1) [1]\n",
      "(1, 1, -1) [1]\n",
      "(1, 1, 1) [1]\n"
     ]
    }
   ],
   "metadata": {}
  },
  {
   "cell_type": "markdown",
   "source": [
    "## 2, $F = \\overline{xyz}$"
   ],
   "metadata": {}
  },
  {
   "cell_type": "code",
   "execution_count": 24,
   "source": [
    "n1 = Neuron(3, [-1, -1, -1], threshold(-1))   # F = not(xyz)"
   ],
   "outputs": [],
   "metadata": {}
  },
  {
   "cell_type": "code",
   "execution_count": 26,
   "source": [
    "for x in t:\r\n",
    "    for y in t:\r\n",
    "        for z in t:\r\n",
    "            print((x, y, z), n1.get_output([x, y, z]))"
   ],
   "outputs": [
    {
     "output_type": "stream",
     "name": "stdout",
     "text": [
      "(-1, -1, -1) 1\n",
      "(-1, -1, 1) 1\n",
      "(-1, 1, -1) 1\n",
      "(-1, 1, 1) 1\n",
      "(1, -1, -1) 1\n",
      "(1, -1, 1) 1\n",
      "(1, 1, -1) 1\n",
      "(1, 1, 1) 0\n"
     ]
    }
   ],
   "metadata": {}
  }
 ],
 "metadata": {
  "orig_nbformat": 4,
  "language_info": {
   "name": "python",
   "version": "3.9.5",
   "mimetype": "text/x-python",
   "codemirror_mode": {
    "name": "ipython",
    "version": 3
   },
   "pygments_lexer": "ipython3",
   "nbconvert_exporter": "python",
   "file_extension": ".py"
  },
  "kernelspec": {
   "name": "python3",
   "display_name": "Python 3.9.5 64-bit"
  },
  "interpreter": {
   "hash": "ee5cc6fef2d70a7e71ee3826687cbd150f18158e0b1eef11d4f4f92bb920e304"
  }
 },
 "nbformat": 4,
 "nbformat_minor": 2
}