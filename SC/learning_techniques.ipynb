{
 "cells": [
  {
   "cell_type": "code",
   "execution_count": 1,
   "source": [
    "import numpy as np\r\n",
    "from NN import *\r\n",
    "from activations import *"
   ],
   "outputs": [],
   "metadata": {}
  },
  {
   "cell_type": "markdown",
   "source": [
    "# Perceptron learning"
   ],
   "metadata": {}
  },
  {
   "cell_type": "code",
   "execution_count": 22,
   "source": [
    "class Perceptron_learning:\r\n",
    "    def __init__(self, neuron):\r\n",
    "        self.neuron = neuron\r\n",
    "    \r\n",
    "    def fit(self, x_train, y_train, c, epochs):\r\n",
    "        x_train = np.array(x_train)\r\n",
    "        y_train = np.array(y_train)\r\n",
    "        loss_per_epoc = []\r\n",
    "        weights_per_epoch = []\r\n",
    "        bias_per_epoch = []\r\n",
    "        history = {}\r\n",
    "\r\n",
    "        for i in range(1, epochs+1):\r\n",
    "            err_per_sample = []\r\n",
    "            weights_per_sample = []\r\n",
    "            bias_per_sample = []\r\n",
    "            for x, y in zip(x_train, y_train):\r\n",
    "                err = self.partial_fit(x, y, c)\r\n",
    "                err_per_sample.append(err)\r\n",
    "                weights_per_sample.append(self.neuron.weights)\r\n",
    "                bias_per_sample.append(self.neuron.b)\r\n",
    "            \r\n",
    "            loss_per_epoc.append(err_per_sample)\r\n",
    "            weights_per_epoch.append(weights_per_sample)\r\n",
    "            bias_per_epoch.append(bias_per_sample)\r\n",
    "            print(f\"Weights after EPOCH {i} are w={self.neuron.weights}, b={self.neuron.b}\")\r\n",
    "            print(f\"Loss per sample {err_per_sample}\")\r\n",
    "        \r\n",
    "        history[\"loss\"] = loss_per_epoc\r\n",
    "        history[\"weights\"] = weights_per_epoch\r\n",
    "        history[\"bias\"] = bias_per_epoch\r\n",
    "        return history\r\n",
    "    \r\n",
    "    def partial_fit(self, x, y, c):\r\n",
    "        x = np.array(x)\r\n",
    "        output = self.predict(x)\r\n",
    "        err = c*(y-output)\r\n",
    "        self.neuron.weights += c*err*x\r\n",
    "        self.neuron.b += c*err\r\n",
    "        return err\r\n",
    "    \r\n",
    "    def predict(self, x):\r\n",
    "        return self.neuron.get_output(x)"
   ],
   "outputs": [],
   "metadata": {}
  },
  {
   "cell_type": "markdown",
   "source": [
    "# Example 1"
   ],
   "metadata": {}
  },
  {
   "cell_type": "code",
   "execution_count": 23,
   "source": [
    "x_train = [[-1, -1], [-1, 1], [1, -1], [1, 1]]\r\n",
    "y_train = [-1, -1, -1, 1]\r\n",
    "\r\n",
    "n = Neuron(2, [1, 1], sign, b=1)\r\n",
    "\r\n",
    "model = Perceptron_learning(n)\r\n",
    "r = model.fit(x_train, y_train, 1, 3)"
   ],
   "outputs": [
    {
     "output_type": "stream",
     "name": "stdout",
     "text": [
      "Weights after EPOCH 1 are w=[3. 3.], b=-1\n",
      "Loss per sample [0, -2, -2, 2]\n",
      "Weights after EPOCH 2 are w=[3. 3.], b=-1\n",
      "Loss per sample [0, 0, 0, 0]\n",
      "Weights after EPOCH 3 are w=[3. 3.], b=-1\n",
      "Loss per sample [0, 0, 0, 0]\n"
     ]
    }
   ],
   "metadata": {}
  },
  {
   "cell_type": "code",
   "execution_count": 24,
   "source": [
    "for i in x_train:\r\n",
    "    print(i, model.predict(i))"
   ],
   "outputs": [
    {
     "output_type": "stream",
     "name": "stdout",
     "text": [
      "[-1, -1] -1\n",
      "[-1, 1] -1\n",
      "[1, -1] -1\n",
      "[1, 1] 1\n"
     ]
    }
   ],
   "metadata": {}
  },
  {
   "cell_type": "markdown",
   "source": [
    "# Example 2"
   ],
   "metadata": {}
  },
  {
   "cell_type": "code",
   "execution_count": 26,
   "source": [
    "x_train = [[-1, -1, -1], [-1, -1, 1], [-1, 1, -1], [-1, 1, 1], [1,-1, -1], [1, -1, 1], [1, 1, -1], [1, 1, 1] ]\r\n",
    "y_train = [1, 1, 1, 1, 1, 1, 1, -1]\r\n",
    "\r\n",
    "n = Neuron(3, [1, 1, 1], sign, b=1)\r\n",
    "\r\n",
    "model = Perceptron_learning(n)\r\n",
    "r = model.fit(x_train, y_train, 1, 3)"
   ],
   "outputs": [
    {
     "output_type": "stream",
     "name": "stdout",
     "text": [
      "Weights after EPOCH 1 are w=[-3. -3. -3.], b=1\n",
      "Loss per sample [2, 0, 0, 0, 0, 0, 0, -2]\n",
      "Weights after EPOCH 2 are w=[-3. -3. -3.], b=5\n",
      "Loss per sample [0, 0, 0, 2, 0, 2, 2, -2]\n",
      "Weights after EPOCH 3 are w=[-3. -3. -3.], b=5\n",
      "Loss per sample [0, 0, 0, 0, 0, 0, 0, 0]\n"
     ]
    }
   ],
   "metadata": {}
  },
  {
   "cell_type": "code",
   "execution_count": 27,
   "source": [
    "for x in x_train:\r\n",
    "    print(x, model.predict(x))"
   ],
   "outputs": [
    {
     "output_type": "stream",
     "name": "stdout",
     "text": [
      "[-1, -1, -1] 1\n",
      "[-1, -1, 1] 1\n",
      "[-1, 1, -1] 1\n",
      "[-1, 1, 1] 1\n",
      "[1, -1, -1] 1\n",
      "[1, -1, 1] 1\n",
      "[1, 1, -1] 1\n",
      "[1, 1, 1] -1\n"
     ]
    }
   ],
   "metadata": {}
  }
 ],
 "metadata": {
  "orig_nbformat": 4,
  "language_info": {
   "name": "python",
   "version": "3.9.5",
   "mimetype": "text/x-python",
   "codemirror_mode": {
    "name": "ipython",
    "version": 3
   },
   "pygments_lexer": "ipython3",
   "nbconvert_exporter": "python",
   "file_extension": ".py"
  },
  "kernelspec": {
   "name": "python3",
   "display_name": "Python 3.9.5 64-bit"
  },
  "interpreter": {
   "hash": "ee5cc6fef2d70a7e71ee3826687cbd150f18158e0b1eef11d4f4f92bb920e304"
  }
 },
 "nbformat": 4,
 "nbformat_minor": 2
}