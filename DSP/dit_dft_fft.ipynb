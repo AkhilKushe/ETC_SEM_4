{
 "cells": [
  {
   "cell_type": "code",
   "execution_count": 1,
   "metadata": {},
   "outputs": [],
   "source": [
    "import numpy as np\n",
    "from scipy import signal"
   ]
  },
  {
   "cell_type": "code",
   "execution_count": 2,
   "metadata": {},
   "outputs": [],
   "source": [
    "def W(k, n, N):\n",
    "    coeff = -1j*2*np.pi*n*k/N\n",
    "    return np.round(np.exp(coeff), 4)"
   ]
  },
  {
   "cell_type": "code",
   "execution_count": 3,
   "metadata": {},
   "outputs": [
    {
     "data": {
      "text/plain": [
       "array([[ 1.+0.j,  1.+0.j,  1.+0.j,  1.+0.j],\n",
       "       [ 1.+0.j,  0.-1.j, -1.-0.j, -0.+1.j],\n",
       "       [ 1.+0.j, -1.-0.j,  1.+0.j, -1.-0.j],\n",
       "       [ 1.+0.j, -0.+1.j, -1.-0.j,  0.-1.j]])"
      ]
     },
     "execution_count": 3,
     "metadata": {},
     "output_type": "execute_result"
    }
   ],
   "source": [
    "w = []\n",
    "for n in range(4):\n",
    "    temp = []\n",
    "    for k in range(4):\n",
    "        temp.append(W(k, n, 4))\n",
    "    w.append(temp)\n",
    "\n",
    "w = np.round(np.array(w), 4)\n",
    "w\n",
    "\n"
   ]
  },
  {
   "cell_type": "markdown",
   "metadata": {},
   "source": [
    "# DIT method"
   ]
  },
  {
   "cell_type": "code",
   "execution_count": 4,
   "metadata": {},
   "outputs": [],
   "source": [
    "def dit_fft(arr):\n",
    "    global count\n",
    "    n = len(arr)\n",
    "    res = []\n",
    "    if n == 2: \n",
    "        res.append(arr[0] + arr[1])\n",
    "        res.append(arr[0] - arr[1])\n",
    "        return np.array(res)\n",
    "    \n",
    "    else:\n",
    "        g1 = arr[::2]\n",
    "        g2 = arr[1::2]\n",
    "        G1 = dit_fft(g1)\n",
    "        G2 = dit_fft(g2)\n",
    "\n",
    "        for k in range(n//2):\n",
    "            res.append(G1[k] + W(k, 1, n)*G2[k])\n",
    "        \n",
    "        for k in range(n//2):\n",
    "            res.append(G1[k] - W(k, 1, n)*G2[k])\n",
    "        \n",
    "        return np.array(res)"
   ]
  },
  {
   "cell_type": "code",
   "execution_count": 8,
   "metadata": {},
   "outputs": [
    {
     "data": {
      "text/plain": [
       "array([ 9.  +0.j  , -4.12-4.12j,  0.  +1.j  ,  0.12-0.12j, -1.  +0.j  ,\n",
       "        0.12+0.12j,  0.  -1.j  , -4.12+4.12j])"
      ]
     },
     "execution_count": 8,
     "metadata": {},
     "output_type": "execute_result"
    }
   ],
   "source": [
    "x = np.array([0, 1, 2, 3, 2, 1, 0, 0])\n",
    "res = dit_fft(x)\n",
    "np.round(res, 2)"
   ]
  },
  {
   "cell_type": "code",
   "execution_count": 9,
   "metadata": {},
   "outputs": [
    {
     "data": {
      "text/plain": [
       "array([ 9.  +0.j  ,  4.12+4.12j,  0.  +1.j  , -0.12+0.12j, -1.  +0.j  ,\n",
       "       -0.12-0.12j,  0.  -1.j  ,  4.12-4.12j])"
      ]
     },
     "execution_count": 9,
     "metadata": {},
     "output_type": "execute_result"
    }
   ],
   "source": [
    "x =  np.array([2, 1, 0, 0, 0, 1, 2, 3])\n",
    "res = dit_fft(x)\n",
    "np.round(res, 2)"
   ]
  },
  {
   "cell_type": "markdown",
   "metadata": {},
   "source": [
    "# DIF method"
   ]
  },
  {
   "cell_type": "code",
   "execution_count": null,
   "metadata": {},
   "outputs": [],
   "source": []
  },
  {
   "cell_type": "markdown",
   "metadata": {},
   "source": [
    "# Hadamard transform"
   ]
  },
  {
   "cell_type": "code",
   "execution_count": 11,
   "metadata": {},
   "outputs": [],
   "source": [
    "def dit_hadamard(arr):\n",
    "    n = len(arr)\n",
    "    res = []\n",
    "    if n == 2: \n",
    "        res.append(arr[0] + arr[1])\n",
    "        res.append(arr[0] - arr[1])\n",
    "        return np.array(res)\n",
    "    \n",
    "    else:\n",
    "        g1 = arr[:n//2]\n",
    "        g2 = arr[n//2:]\n",
    "        G1 = dit_hadamard(g1)\n",
    "        G2 = dit_hadamard(g2)\n",
    "\n",
    "        for k in range(n//2):\n",
    "            res.append(G1[k] + G2[k])\n",
    "        \n",
    "        for k in range(n//2):\n",
    "            res.append(G1[k] - G2[k])\n",
    "        \n",
    "        return np.array(res)"
   ]
  },
  {
   "cell_type": "code",
   "execution_count": 12,
   "metadata": {},
   "outputs": [],
   "source": [
    "x = np.array([1, 2, 1, 1, 3, 2, 1, 2])\n",
    "res = dit_hadamard(x)"
   ]
  },
  {
   "cell_type": "code",
   "execution_count": 13,
   "metadata": {},
   "outputs": [
    {
     "name": "stdout",
     "output_type": "stream",
     "text": [
      "[13 -1  3  1 -3 -1 -1 -3]\n"
     ]
    }
   ],
   "source": [
    "print(res)"
   ]
  }
 ],
 "metadata": {
  "interpreter": {
   "hash": "ee5cc6fef2d70a7e71ee3826687cbd150f18158e0b1eef11d4f4f92bb920e304"
  },
  "kernelspec": {
   "display_name": "Python 3.9.5 64-bit",
   "language": "python",
   "name": "python3"
  },
  "language_info": {
   "codemirror_mode": {
    "name": "ipython",
    "version": 3
   },
   "file_extension": ".py",
   "mimetype": "text/x-python",
   "name": "python",
   "nbconvert_exporter": "python",
   "pygments_lexer": "ipython3",
   "version": "3.9.5"
  },
  "orig_nbformat": 4
 },
 "nbformat": 4,
 "nbformat_minor": 2
}
