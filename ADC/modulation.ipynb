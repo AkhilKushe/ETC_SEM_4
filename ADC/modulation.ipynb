{
 "cells": [
  {
   "cell_type": "code",
   "execution_count": 1,
   "source": [
    "import scipy as sp\r\n",
    "from scipy import signal\r\n",
    "import matplotlib.pyplot as plt\r\n",
    "from ipywidgets import interact, interact_manual\r\n",
    "import numpy as np\r\n",
    "from IPython.display import clear_output\r\n",
    "\r\n",
    "%matplotlib ipympl  \r\n"
   ],
   "outputs": [],
   "metadata": {}
  },
  {
   "cell_type": "markdown",
   "source": [
    "# Mono tone"
   ],
   "metadata": {}
  },
  {
   "cell_type": "code",
   "execution_count": 2,
   "source": [
    "@interact_manual(wm=(0, 10), wc=(0, 100), am=(0, 5, 0.1), ac=(0, 5, 0.1), sampling_freq=(0, 1000))\r\n",
    "def amplitude_mod(wm=2, wc=20, am=2, ac=2, sampling_freq=200, mod_type=[\"simple\", \"DSBSC\", \"SSBSC\"]):\r\n",
    "    plt.close()\r\n",
    "    clear_output()\r\n",
    "    x = np.arange(1, 4, 1/sampling_freq)\r\n",
    "    baseband = am*np.sin(2*np.pi*wm*x)\r\n",
    "    carrier = ac*np.sin(2*np.pi*wc*x)\r\n",
    "    ffx = np.fft.rfftfreq(len(x), 1/sampling_freq)\r\n",
    "    bb_ft = np.fft.rfft(baseband)/len(baseband)\r\n",
    "    c_ft = np.fft.rfft(carrier)/len(baseband)\r\n",
    "    ft_x_scale = int(120*len(x)/sampling_freq)\r\n",
    "    ft_x_ticks = np.arange(min(ffx), 120, 5)\r\n",
    "    \r\n",
    "    \r\n",
    "    fig, ax = plt.subplots(3, 2)\r\n",
    "    ax[0][0].plot(x, baseband)\r\n",
    "    ax[0][0].set_title(\"Baseband Signal\")\r\n",
    "    ax[0][1].plot(ffx[:ft_x_scale], 2*np.absolute(bb_ft)[:ft_x_scale])\r\n",
    "    ax[0][1].set_xticks(ft_x_ticks)\r\n",
    "    ax[0][1].set_title(\"Baseband Signal Fourier Transform\")\r\n",
    "\r\n",
    "    ax[1][0].plot(x, carrier)\r\n",
    "    ax[1][0].set_title(\"Carrier Signal\")\r\n",
    "    ax[1][1].plot(ffx[:ft_x_scale], 2*np.absolute(c_ft)[:ft_x_scale])\r\n",
    "    ax[1][1].set_xticks(ft_x_ticks)\r\n",
    "    ax[1][1].set_title(\"Carrier Signal Fourier Transform\")\r\n",
    "\r\n",
    "\r\n",
    "    if mod_type == \"simple\":\r\n",
    "        modulated_signal = (ac + baseband)*np.sin(2*np.pi*wc*x)\r\n",
    "    elif mod_type == \"DSBSC\":\r\n",
    "        modulated_signal = baseband*np.sin(2*np.pi*wc*x)\r\n",
    "    elif mod_type == \"SSBSC\":\r\n",
    "        modulated_signal = baseband*np.sin(2*np.pi*wc*x)\r\n",
    "        sos = signal.butter(50, wc, 'highpass', output='sos', fs=sampling_freq)\r\n",
    "        modulated_signal = signal.sosfilt(sos, modulated_signal)\r\n",
    "\r\n",
    "    mod_ft = np.fft.rfft(modulated_signal)/len(modulated_signal)\r\n",
    "\r\n",
    "    ax[2][0].plot(x, modulated_signal)\r\n",
    "    ax[2][0].set_title(\"Modulated Signal\")\r\n",
    "    ax[2][1].plot(ffx[:ft_x_scale], 2*np.absolute(mod_ft)[:ft_x_scale])\r\n",
    "    ax[2][1].set_xticks(ft_x_ticks)\r\n",
    "    ax[2][1].set_title(\"Modulated Signal Fourier Transform\")\r\n",
    "\r\n",
    "    \r\n",
    "    fig.set_figwidth(15)\r\n",
    "    fig.set_figheight(6)\r\n",
    "    fig.tight_layout(pad=1.0)\r\n",
    "\r\n",
    "    print(\"Modulating Index : \", am/ac)\r\n",
    "    pc = 2*sum(np.absolute(c_ft)**2)\r\n",
    "    pam = 2*sum(np.absolute(mod_ft)**2)\r\n",
    "    print(\"Pc = %.3f\"%(pc))\r\n",
    "    print(\"Pam = %.3f\"%(pam))\r\n",
    "\r\n"
   ],
   "outputs": [
    {
     "output_type": "display_data",
     "data": {
      "application/vnd.jupyter.widget-view+json": {
       "version_major": 2,
       "version_minor": 0,
       "model_id": "52052984521a43e3bf635fd88c7ca2b6"
      },
      "text/plain": [
       "interactive(children=(IntSlider(value=2, description='wm', max=10), IntSlider(value=20, description='wc'), Flo…"
      ]
     },
     "metadata": {}
    }
   ],
   "metadata": {}
  },
  {
   "cell_type": "markdown",
   "source": [
    "# Two tone"
   ],
   "metadata": {}
  },
  {
   "cell_type": "code",
   "execution_count": 3,
   "source": [
    "@interact_manual(wm1=(0, 10), wm2=(0, 10), wc=(0, 100),am1=(0, 5, 0.1), am2=(0, 5, 0.1), ac=(0, 5, 0.1), sampling_freq=(0, 1000))\r\n",
    "def two_tone_mod(wm1=3, wm2=4, wc=50, am1=1, am2=3, ac=5, sampling_freq=510, mod_type=[\"simple\", \"DSBSC\", \"SSBSC\"]):\r\n",
    "    plt.close()\r\n",
    "    x = np.arange(1, 4, 1/sampling_freq)\r\n",
    "    signal1 = am1*np.sin(2*np.pi*wm1*x)\r\n",
    "    signal2 = am2*np.sin(2*np.pi*wm2*x)\r\n",
    "    baseband = signal1 + signal2\r\n",
    "    carrier = ac*np.sin(2*np.pi*wc*x)\r\n",
    "\r\n",
    "    ffx = np.fft.rfftfreq(len(x), 1/sampling_freq)\r\n",
    "    bb_ft = np.fft.rfft(baseband)/len(baseband)\r\n",
    "    c_ft = np.fft.rfft(carrier)/len(carrier)\r\n",
    "    s1_ft = np.fft.rfft(signal1)/len(signal1)\r\n",
    "    s2_ft = np.fft.rfft(signal2)/len(signal2)\r\n",
    "\r\n",
    "    ft_x_scale = int(120*len(x)/sampling_freq)\r\n",
    "    ft_x_ticks = np.arange(min(ffx), 120, 5)\r\n",
    "    \r\n",
    "    \r\n",
    "    fig, ax = plt.subplots(5, 2)\r\n",
    "    ax[0][0].plot(x, signal1)\r\n",
    "    ax[0][1].plot(ffx[:ft_x_scale//10], 2*np.absolute(s1_ft)[:ft_x_scale//10])\r\n",
    "    ax[0][1].set_title(\"Signal 1\")\r\n",
    "    ax[0][1].set_xticks(ft_x_ticks//10)\r\n",
    "    ax[1][0].plot(x, signal2)\r\n",
    "    ax[1][1].plot(ffx[:ft_x_scale//10], 2*np.absolute(s2_ft)[:ft_x_scale//10])\r\n",
    "    ax[1][1].set_title(\"Signal 2\")\r\n",
    "    ax[1][1].set_xticks(ft_x_ticks//10)\r\n",
    "\r\n",
    "\r\n",
    "    ax[2][0].plot(x, baseband)\r\n",
    "    ax[2][0].set_title(\"Baseband Signal\")\r\n",
    "    ax[2][1].plot(ffx[:ft_x_scale//10], 2*np.absolute(bb_ft)[:ft_x_scale//10])\r\n",
    "    ax[2][1].set_xticks(ft_x_ticks//10)\r\n",
    "    ax[2][1].set_title(\"Baseband Signal Fourier Transform\")\r\n",
    "\r\n",
    "    ax[3][0].plot(x, carrier)\r\n",
    "    ax[3][0].set_title(\"Carrier Signal\")\r\n",
    "    ax[3][1].plot(ffx[:ft_x_scale], 2*np.absolute(c_ft)[:ft_x_scale])\r\n",
    "    ax[3][1].set_xticks(ft_x_ticks)\r\n",
    "    ax[3][1].set_title(\"Carrier Signal Fourier Transform\")\r\n",
    "\r\n",
    "    if mod_type == \"simple\":\r\n",
    "        modulated_signal = (ac + baseband)*np.sin(2*np.pi*wc*x)\r\n",
    "    elif mod_type == \"DSBSC\":\r\n",
    "        modulated_signal = baseband*np.sin(2*np.pi*wc*x)\r\n",
    "    elif mod_type == \"SSBSC\":\r\n",
    "        modulated_signal = baseband*np.sin(2*np.pi*wc*x)\r\n",
    "        sos = signal.butter(30,wc, 'hp', output='sos', fs=sampling_freq)\r\n",
    "        modulated_signal = signal.sosfilt(sos, modulated_signal)\r\n",
    "\r\n",
    "    mod_ft = np.fft.rfft(modulated_signal)/len(modulated_signal)\r\n",
    "\r\n",
    "    ax[4][0].plot(x, modulated_signal)\r\n",
    "    ax[4][0].set_title(\"Modulated Signal\")\r\n",
    "    ax[4][1].plot(ffx[:ft_x_scale], 2*np.absolute(mod_ft)[:ft_x_scale])\r\n",
    "    ax[4][1].set_xticks(ft_x_ticks)\r\n",
    "    ax[4][1].set_title(\"Modulated Signal Fourier Transform\")\r\n",
    "\r\n",
    "    \r\n",
    "    fig.set_figwidth(15)\r\n",
    "    fig.set_figheight(12)\r\n",
    "    fig.tight_layout(pad=1)\r\n",
    "\r\n",
    "    print(\"Modulating Index 1 : \", am1/ac)\r\n",
    "    print(\"Modulating Index 2 : \", am2/ac)\r\n",
    "    print(\"M1 + M2 = \", (am1 + am2)/ac)\r\n",
    "    pc = 2*sum(np.absolute(c_ft)**2)\r\n",
    "    pam = 2*sum(np.absolute(mod_ft)**2)\r\n",
    "    print(\"Pc = %.3f\"%(pc))\r\n",
    "    print(\"Pam = %.3f\"%(pam))\r\n"
   ],
   "outputs": [
    {
     "output_type": "display_data",
     "data": {
      "application/vnd.jupyter.widget-view+json": {
       "version_major": 2,
       "version_minor": 0,
       "model_id": "8eb86b8c83ab408eb63bd4be2af00e69"
      },
      "text/plain": [
       "interactive(children=(IntSlider(value=3, description='wm1', max=10), IntSlider(value=4, description='wm2', max…"
      ]
     },
     "metadata": {}
    }
   ],
   "metadata": {}
  },
  {
   "cell_type": "markdown",
   "source": [
    "# Multi tone "
   ],
   "metadata": {}
  },
  {
   "cell_type": "code",
   "execution_count": 100,
   "source": [
    "def multi_tone_mod(wm=[], am=[], wc=50, ac=2, sampling_freq=200, mod_type=\"simple\"):\r\n",
    "    plt.close()\r\n",
    "    x = np.arange(1, 4, 1/sampling_freq)\r\n",
    "    \r\n",
    "    if len(wm) != len(am):\r\n",
    "        raise \"wm and am are not of the same dimension\"\r\n",
    "\r\n",
    "    baseband = np.zeros(len(x))\r\n",
    "    for i in range(len(wm)):\r\n",
    "        baseband += am[i]*np.sin(2*np.pi*wm[i]*x)\r\n",
    "    \r\n",
    "\r\n",
    "\r\n",
    "    carrier = ac*np.sin(2*np.pi*wc*x)\r\n",
    "    ffx = np.fft.rfftfreq(len(x), 1/sampling_freq)\r\n",
    "    bb_ft = np.fft.rfft(baseband)/len(baseband)\r\n",
    "    c_ft = np.fft.rfft(carrier)/len(baseband)\r\n",
    "    ft_x_scale = int(120*len(x)/sampling_freq)\r\n",
    "    ft_x_ticks = np.arange(min(ffx), 120, 5)\r\n",
    "    \r\n",
    "    \r\n",
    "    fig, ax = plt.subplots(3, 2)\r\n",
    "    ax[0][0].plot(x, baseband)\r\n",
    "    ax[0][0].set_title(\"Baseband Signal\")\r\n",
    "    ax[0][1].plot(ffx[:ft_x_scale//10], 2*np.absolute(bb_ft)[:ft_x_scale//10])\r\n",
    "    ax[0][1].set_xticks(ft_x_ticks//10)\r\n",
    "    ax[0][1].set_title(\"Baseband Signal Fourier Transform\")\r\n",
    "\r\n",
    "    ax[1][0].plot(x, carrier)\r\n",
    "    ax[1][0].set_title(\"Carrier Signal\")\r\n",
    "    ax[1][1].plot(ffx[:ft_x_scale], 2*np.absolute(c_ft)[:ft_x_scale])\r\n",
    "    ax[1][1].set_xticks(ft_x_ticks)\r\n",
    "    ax[1][1].set_title(\"Carrier Signal Fourier Transform\")\r\n",
    "\r\n",
    "\r\n",
    "    if mod_type == \"simple\":\r\n",
    "        modulated_signal = (ac + baseband)*np.sin(2*np.pi*wc*x)\r\n",
    "    elif mod_type == \"DSBSC\":\r\n",
    "        modulated_signal = baseband*np.sin(2*np.pi*wc*x)\r\n",
    "    elif mod_type == \"SSBSC\":\r\n",
    "        modulated_signal = baseband*np.sin(2*np.pi*wc*x)\r\n",
    "        sos = signal.butter(50, wc, 'highpass', output='sos', fs=sampling_freq)\r\n",
    "        modulated_signal = signal.sosfilt(sos, modulated_signal)\r\n",
    "\r\n",
    "    mod_ft = np.fft.rfft(modulated_signal)/len(modulated_signal)\r\n",
    "\r\n",
    "    ax[2][0].plot(x, modulated_signal)\r\n",
    "    ax[2][0].set_title(\"Modulated Signal\")\r\n",
    "    ax[2][1].plot(ffx[:ft_x_scale], 2*np.absolute(mod_ft)[:ft_x_scale])\r\n",
    "    ax[2][1].set_xticks(ft_x_ticks)\r\n",
    "    ax[2][1].set_title(\"Modulated Signal Fourier Transform\")\r\n",
    "\r\n",
    "    \r\n",
    "    fig.set_figwidth(16)\r\n",
    "    fig.set_figheight(8)\r\n",
    "    fig.tight_layout(pad=5.0)\r\n",
    "\r\n",
    "    print(\"Modulating Index : \", sum(am)/ac)\r\n",
    "    pc = 2*sum(np.absolute(c_ft)**2)\r\n",
    "    pam = 2*sum(np.absolute(mod_ft)**2)\r\n",
    "    # print(\"Pc = %.3f\"%(pc))\r\n",
    "    # print(\"Pam = %.3f\"%(pam))"
   ],
   "outputs": [],
   "metadata": {}
  },
  {
   "cell_type": "code",
   "execution_count": 99,
   "source": [
    "wm = [1, 1.5, 2, 3, 4.4, 4, 5, 5.7]\r\n",
    "am = [.2, .1, 1.3, .2, .3, 0.4, .2, 1.8]\r\n",
    "sampling_frequency = 500\r\n",
    "@interact_manual\r\n",
    "def multi_tone_mod_interact(wc=(0, 100, 1), ac=(0, 5, 0.1), mod_type=[\"simple\", \"DSBSC\", \"SSBSC\"]):\r\n",
    "    multi_tone_mod(wm, am, wc, ac, sampling_frequency ,mod_type)"
   ],
   "outputs": [
    {
     "output_type": "display_data",
     "data": {
      "application/vnd.jupyter.widget-view+json": {
       "version_major": 2,
       "version_minor": 0,
       "model_id": "b3696631c0374caaac771b196a2db189"
      },
      "text/plain": [
       "interactive(children=(IntSlider(value=50, description='wc'), FloatSlider(value=2.0, description='ac', max=5.0)…"
      ]
     },
     "metadata": {}
    }
   ],
   "metadata": {}
  },
  {
   "cell_type": "markdown",
   "source": [
    "# Any baseband signal"
   ],
   "metadata": {}
  },
  {
   "cell_type": "code",
   "execution_count": 4,
   "source": [
    "def any_baseband(x, baseband, wc=50, ac=2, sampling_freq=200, mod_type=\"simple\"):\r\n",
    "    plt.close()\r\n",
    "    \r\n",
    "    carrier = ac*np.sin(2*np.pi*wc*x)\r\n",
    "    ffx = np.fft.fftfreq(len(x), 1/sampling_freq)\r\n",
    "    bb_ft = np.fft.fft(baseband)/len(baseband)\r\n",
    "    c_ft = np.fft.fft(carrier)/len(baseband)\r\n",
    "    \r\n",
    "    \r\n",
    "    fig, ax = plt.subplots(3, 2)\r\n",
    "    ax[0][0].plot(x, baseband)\r\n",
    "    ax[0][0].set_title(\"Baseband Signal\")\r\n",
    "    ax[0][1].plot(ffx, np.absolute(bb_ft))\r\n",
    "    ax[0][1].set_title(\"Baseband Signal Fourier Transform\")\r\n",
    "\r\n",
    "    ax[1][0].plot(x, carrier)\r\n",
    "    ax[1][0].set_title(\"Carrier Signal\")\r\n",
    "    ax[1][1].plot(ffx, np.absolute(c_ft))\r\n",
    "    ax[1][1].set_title(\"Carrier Signal Fourier Transform\")\r\n",
    "\r\n",
    "\r\n",
    "    if mod_type == \"simple\":\r\n",
    "        modulated_signal = (ac + baseband)*np.sin(2*np.pi*wc*x)\r\n",
    "    elif mod_type == \"DSBSC\":\r\n",
    "        modulated_signal = baseband*np.sin(2*np.pi*wc*x)\r\n",
    "    elif mod_type == \"SSBSC\":\r\n",
    "        modulated_signal = baseband*np.sin(2*np.pi*wc*x)\r\n",
    "        sos = signal.butter(50, 'highpass', output='sos', fs=sampling_freq)\r\n",
    "        modulated_signal = signal.sosfilt(sos, modulated_signal)\r\n",
    "\r\n",
    "    mod_ft = np.fft.fft(modulated_signal)/len(modulated_signal)\r\n",
    "\r\n",
    "    ax[2][0].plot(x, modulated_signal)\r\n",
    "    ax[2][0].set_title(\"Modulated Signal\")\r\n",
    "    ax[2][1].plot(ffx, np.absolute(mod_ft))\r\n",
    "    ax[2][1].set_title(\"Modulated Signal Fourier Transform\")\r\n",
    "\r\n",
    "    \r\n",
    "    fig.set_figwidth(16)\r\n",
    "    fig.set_figheight(8)\r\n",
    "    fig.tight_layout(pad=5.0)\r\n"
   ],
   "outputs": [],
   "metadata": {}
  },
  {
   "cell_type": "code",
   "execution_count": 5,
   "source": [
    "sampling_frequency = 500\r\n",
    "x = np.arange(-4, 4, 1/sampling_frequency)\r\n",
    "baseband_signal = np.sinc(10*x)**2\r\n",
    "\r\n",
    "@interact_manual(wm=(0, 10), wc=(0, 100), am=(0, 5, 0.1), ac=(0, 5, 0.1))\r\n",
    "def any_baseband_interact(wc=20, ac=2, mod_type=[\"simple\", \"DSBSC\"]): \r\n",
    "    any_baseband(x, baseband_signal, wc, ac, sampling_frequency, mod_type)\r\n",
    "    "
   ],
   "outputs": [
    {
     "output_type": "display_data",
     "data": {
      "application/vnd.jupyter.widget-view+json": {
       "version_major": 2,
       "version_minor": 0,
       "model_id": "c42e91c5d1964795b83880ab9e9165a0"
      },
      "text/plain": [
       "interactive(children=(IntSlider(value=20, description='wc'), FloatSlider(value=2.0, description='ac', max=5.0)…"
      ]
     },
     "metadata": {}
    }
   ],
   "metadata": {}
  }
 ],
 "metadata": {
  "interpreter": {
   "hash": "ee5cc6fef2d70a7e71ee3826687cbd150f18158e0b1eef11d4f4f92bb920e304"
  },
  "kernelspec": {
   "name": "python3",
   "display_name": "Python 3.9.5 64-bit"
  },
  "language_info": {
   "codemirror_mode": {
    "name": "ipython",
    "version": 3
   },
   "file_extension": ".py",
   "mimetype": "text/x-python",
   "name": "python",
   "nbconvert_exporter": "python",
   "pygments_lexer": "ipython3",
   "version": "3.9.5"
  }
 },
 "nbformat": 4,
 "nbformat_minor": 2
}