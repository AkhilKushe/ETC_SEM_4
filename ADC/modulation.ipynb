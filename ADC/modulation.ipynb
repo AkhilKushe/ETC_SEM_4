{
 "cells": [
  {
   "cell_type": "code",
   "execution_count": 1,
   "metadata": {},
   "outputs": [],
   "source": [
    "import scipy as sp\n",
    "from scipy import signal\n",
    "import matplotlib.pyplot as plt\n",
    "from ipywidgets import interact, interact_manual\n",
    "import numpy as np\n",
    "\n",
    "%matplotlib ipympl\n"
   ]
  },
  {
   "cell_type": "markdown",
   "metadata": {},
   "source": [
    "# Mono tone"
   ]
  },
  {
   "cell_type": "code",
   "execution_count": 2,
   "metadata": {},
   "outputs": [
    {
     "data": {
      "application/vnd.jupyter.widget-view+json": {
       "model_id": "ffedc85c6bee437c940e29be060265b8",
       "version_major": 2,
       "version_minor": 0
      },
      "text/plain": [
       "interactive(children=(IntSlider(value=2, description='wm', max=10), IntSlider(value=20, description='wc'), Flo…"
      ]
     },
     "metadata": {},
     "output_type": "display_data"
    }
   ],
   "source": [
    "@interact_manual(wm=(0, 10), wc=(0, 100), am=(0, 5, 0.1), ac=(0, 5, 0.1), sampling_freq=(0, 1000))\n",
    "def amplitude_mod(wm=2, wc=20, am=2, ac=2, sampling_freq=200, mod_type=[\"simple\", \"DSBSC\", \"SSBSC\"]):\n",
    "    plt.close()\n",
    "    x = np.arange(1, 4, 1/sampling_freq)\n",
    "    baseband = am*np.sin(2*np.pi*wm*x)\n",
    "    carrier = ac*np.sin(2*np.pi*wc*x)\n",
    "    ffx = np.fft.rfftfreq(len(x), 1/sampling_freq)\n",
    "    bb_ft = np.fft.rfft(baseband)/len(baseband)\n",
    "    c_ft = np.fft.rfft(carrier)/len(baseband)\n",
    "    ft_x_scale = int(120*len(x)/sampling_freq)\n",
    "    ft_x_ticks = np.arange(min(ffx), 120, 5)\n",
    "    \n",
    "    \n",
    "    fig, ax = plt.subplots(3, 2)\n",
    "    ax[0][0].plot(x, baseband)\n",
    "    ax[0][0].set_title(\"Baseband Signal\")\n",
    "    ax[0][1].plot(ffx[:ft_x_scale], 2*np.absolute(bb_ft)[:ft_x_scale])\n",
    "    ax[0][1].set_xticks(ft_x_ticks)\n",
    "    ax[0][1].set_title(\"Baseband Signal Fourier Transform\")\n",
    "\n",
    "    ax[1][0].plot(x, carrier)\n",
    "    ax[1][0].set_title(\"Carrier Signal\")\n",
    "    ax[1][1].plot(ffx[:ft_x_scale], 2*np.absolute(c_ft)[:ft_x_scale])\n",
    "    ax[1][1].set_xticks(ft_x_ticks)\n",
    "    ax[1][1].set_title(\"Carrier Signal Fourier Transform\")\n",
    "\n",
    "\n",
    "    if mod_type == \"simple\":\n",
    "        modulated_signal = (ac + baseband)*np.sin(2*np.pi*wc*x)\n",
    "    elif mod_type == \"DSBSC\":\n",
    "        modulated_signal = baseband*np.sin(2*np.pi*wc*x)\n",
    "    elif mod_type == \"SSBSC\":\n",
    "        modulated_signal = baseband*np.sin(2*np.pi*wc*x)\n",
    "        sos = signal.butter(50, wc, 'highpass', output='sos', fs=sampling_freq)\n",
    "        modulated_signal = signal.sosfilt(sos, modulated_signal)\n",
    "\n",
    "    mod_ft = np.fft.rfft(modulated_signal)/len(modulated_signal)\n",
    "\n",
    "    ax[2][0].plot(x, modulated_signal)\n",
    "    ax[2][0].set_title(\"Modulated Signal\")\n",
    "    ax[2][1].plot(ffx[:ft_x_scale], 2*np.absolute(mod_ft)[:ft_x_scale])\n",
    "    ax[2][1].set_xticks(ft_x_ticks)\n",
    "    ax[2][1].set_title(\"Modulated Signal Fourier Transform\")\n",
    "\n",
    "    \n",
    "    fig.set_figwidth(15)\n",
    "    fig.set_figheight(6)\n",
    "    fig.tight_layout(pad=1.0)\n",
    "\n",
    "    print(\"Modulating Index : \", am/ac)\n",
    "    pc = 2*sum(np.absolute(c_ft)**2)\n",
    "    pam = 2*sum(np.absolute(mod_ft)**2)\n",
    "    print(\"Pc = %.3f\"%(pc))\n",
    "    print(\"Pam = %.3f\"%(pam))\n",
    "\n"
   ]
  },
  {
   "cell_type": "markdown",
   "metadata": {},
   "source": [
    "# Two tone"
   ]
  },
  {
   "cell_type": "code",
   "execution_count": 3,
   "metadata": {},
   "outputs": [
    {
     "data": {
      "application/vnd.jupyter.widget-view+json": {
       "model_id": "eefa274c48a443fe9853c3c56df4ede8",
       "version_major": 2,
       "version_minor": 0
      },
      "text/plain": [
       "interactive(children=(IntSlider(value=3, description='wm1', max=10), IntSlider(value=4, description='wm2', max…"
      ]
     },
     "metadata": {},
     "output_type": "display_data"
    }
   ],
   "source": [
    "@interact_manual(wm1=(0, 10), wm2=(0, 10), wc=(0, 100),am1=(0, 5, 0.1), am2=(0, 5, 0.1), ac=(0, 5, 0.1), sampling_freq=(0, 1000))\n",
    "def two_tone_mod(wm1=3, wm2=4, wc=50, am1=1, am2=3, ac=5, sampling_freq=510, mod_type=[\"simple\", \"DSBSC\", \"SSBSC\"]):\n",
    "    plt.close()\n",
    "    x = np.arange(1, 4, 1/sampling_freq)\n",
    "    signal1 = am1*np.sin(2*np.pi*wm1*x)\n",
    "    signal2 = am2*np.sin(2*np.pi*wm2*x)\n",
    "    baseband = signal1 + signal2\n",
    "    carrier = ac*np.sin(2*np.pi*wc*x)\n",
    "\n",
    "    ffx = np.fft.rfftfreq(len(x), 1/sampling_freq)\n",
    "    bb_ft = np.fft.rfft(baseband)/len(baseband)\n",
    "    c_ft = np.fft.rfft(carrier)/len(carrier)\n",
    "    s1_ft = np.fft.rfft(signal1)/len(signal1)\n",
    "    s2_ft = np.fft.rfft(signal2)/len(signal2)\n",
    "\n",
    "    ft_x_scale = int(120*len(x)/sampling_freq)\n",
    "    ft_x_ticks = np.arange(min(ffx), 120, 5)\n",
    "    \n",
    "    \n",
    "    fig, ax = plt.subplots(5, 2)\n",
    "    ax[0][0].plot(x, signal1)\n",
    "    ax[0][1].plot(ffx[:ft_x_scale//10], 2*np.absolute(s1_ft)[:ft_x_scale//10])\n",
    "    ax[0][1].set_title(\"Signal 1\")\n",
    "    ax[0][1].set_xticks(ft_x_ticks//10)\n",
    "    ax[1][0].plot(x, signal2)\n",
    "    ax[1][1].plot(ffx[:ft_x_scale//10], 2*np.absolute(s2_ft)[:ft_x_scale//10])\n",
    "    ax[1][1].set_title(\"Signal 2\")\n",
    "    ax[1][1].set_xticks(ft_x_ticks//10)\n",
    "\n",
    "\n",
    "    ax[2][0].plot(x, baseband)\n",
    "    ax[2][0].set_title(\"Baseband Signal\")\n",
    "    ax[2][1].plot(ffx[:ft_x_scale//10], 2*np.absolute(bb_ft)[:ft_x_scale//10])\n",
    "    ax[2][1].set_xticks(ft_x_ticks//10)\n",
    "    ax[2][1].set_title(\"Baseband Signal Fourier Transform\")\n",
    "\n",
    "    ax[3][0].plot(x, carrier)\n",
    "    ax[3][0].set_title(\"Carrier Signal\")\n",
    "    ax[3][1].plot(ffx[:ft_x_scale], 2*np.absolute(c_ft)[:ft_x_scale])\n",
    "    ax[3][1].set_xticks(ft_x_ticks)\n",
    "    ax[3][1].set_title(\"Carrier Signal Fourier Transform\")\n",
    "\n",
    "    if mod_type == \"simple\":\n",
    "        modulated_signal = (ac + baseband)*np.sin(2*np.pi*wc*x)\n",
    "    elif mod_type == \"DSBSC\":\n",
    "        modulated_signal = baseband*np.sin(2*np.pi*wc*x)\n",
    "    elif mod_type == \"SSBSC\":\n",
    "        modulated_signal = baseband*np.sin(2*np.pi*wc*x)\n",
    "        sos = signal.butter(30,wc, 'hp', output='sos', fs=sampling_freq)\n",
    "        modulated_signal = signal.sosfilt(sos, modulated_signal)\n",
    "\n",
    "    mod_ft = np.fft.rfft(modulated_signal)/len(modulated_signal)\n",
    "\n",
    "    ax[4][0].plot(x, modulated_signal)\n",
    "    ax[4][0].set_title(\"Modulated Signal\")\n",
    "    ax[4][1].plot(ffx[:ft_x_scale], 2*np.absolute(mod_ft)[:ft_x_scale])\n",
    "    ax[4][1].set_xticks(ft_x_ticks)\n",
    "    ax[4][1].set_title(\"Modulated Signal Fourier Transform\")\n",
    "\n",
    "    \n",
    "    fig.set_figwidth(15)\n",
    "    fig.set_figheight(12)\n",
    "    fig.tight_layout(pad=1)\n",
    "\n",
    "    print(\"Modulating Index 1 : \", am1/ac)\n",
    "    print(\"Modulating Index 2 : \", am2/ac)\n",
    "    print(\"M1 + M2 = \", (am1 + am2)/ac)\n",
    "    pc = 2*sum(np.absolute(c_ft)**2)\n",
    "    pam = 2*sum(np.absolute(mod_ft)**2)\n",
    "    print(\"Pc = %.3f\"%(pc))\n",
    "    print(\"Pam = %.3f\"%(pam))\n"
   ]
  },
  {
   "cell_type": "markdown",
   "metadata": {},
   "source": [
    "# Multi tone "
   ]
  },
  {
   "cell_type": "code",
   "execution_count": 7,
   "metadata": {},
   "outputs": [],
   "source": [
    "def multi_tone_mod(wm=[], am=[], wc=50, ac=2, sampling_freq=200, mod_type=\"simple\"):\n",
    "    plt.close()\n",
    "    x = np.arange(1, 4, 1/sampling_freq)\n",
    "    \n",
    "    if len(wm) != len(am):\n",
    "        raise \"wm and am are not of the same dimension\"\n",
    "\n",
    "    baseband = np.zeros(len(x))\n",
    "    for i in range(len(wm)):\n",
    "        baseband += am[i]*np.sin(2*np.pi*wm[i]*x)\n",
    "    \n",
    "\n",
    "\n",
    "    carrier = ac*np.sin(2*np.pi*wc*x)\n",
    "    ffx = np.fft.rfftfreq(len(x), 1/sampling_freq)\n",
    "    bb_ft = np.fft.rfft(baseband)/len(baseband)\n",
    "    c_ft = np.fft.rfft(carrier)/len(baseband)\n",
    "    ft_x_scale = int(120*len(x)/sampling_freq)\n",
    "    ft_x_ticks = np.arange(min(ffx), 120, 5)\n",
    "    \n",
    "    \n",
    "    fig, ax = plt.subplots(3, 2)\n",
    "    ax[0][0].plot(x, baseband)\n",
    "    ax[0][0].set_title(\"Baseband Signal\")\n",
    "    ax[0][1].stem(ffx[:ft_x_scale//10], 2*np.absolute(bb_ft)[:ft_x_scale//10])\n",
    "    ax[0][1].set_xticks(ft_x_ticks//10)\n",
    "    ax[0][1].set_title(\"Baseband Signal Fourier Transform\")\n",
    "\n",
    "    ax[1][0].plot(x, carrier)\n",
    "    ax[1][0].set_title(\"Carrier Signal\")\n",
    "    ax[1][1].stem(ffx[:ft_x_scale], 2*np.absolute(c_ft)[:ft_x_scale])\n",
    "    ax[1][1].set_xticks(ft_x_ticks)\n",
    "    ax[1][1].set_title(\"Carrier Signal Fourier Transform\")\n",
    "\n",
    "\n",
    "    if mod_type == \"simple\":\n",
    "        modulated_signal = (ac + baseband)*np.sin(2*np.pi*wc*x)\n",
    "    elif mod_type == \"DSBSC\":\n",
    "        modulated_signal = baseband*np.sin(2*np.pi*wc*x)\n",
    "    elif mod_type == \"SSBSC\":\n",
    "        modulated_signal = baseband*np.sin(2*np.pi*wc*x)\n",
    "        sos = signal.butter(50, wc, 'highpass', output='sos', fs=sampling_freq)\n",
    "        modulated_signal = signal.sosfilt(sos, modulated_signal)\n",
    "\n",
    "    mod_ft = np.fft.rfft(modulated_signal)/len(modulated_signal)\n",
    "\n",
    "    ax[2][0].plot(x, modulated_signal)\n",
    "    ax[2][0].set_title(\"Modulated Signal\")\n",
    "    ax[2][1].plot(ffx[:ft_x_scale], 2*np.absolute(mod_ft)[:ft_x_scale])\n",
    "    ax[2][1].set_xticks(ft_x_ticks)\n",
    "    ax[2][1].set_title(\"Modulated Signal Fourier Transform\")\n",
    "\n",
    "    \n",
    "    fig.set_figwidth(16)\n",
    "    fig.set_figheight(8)\n",
    "    fig.tight_layout(pad=5.0)\n",
    "\n",
    "    print(\"Modulating Index : \", sum(am)/ac)\n",
    "    pc = 2*sum(np.absolute(c_ft)**2)\n",
    "    pam = 2*sum(np.absolute(mod_ft)**2)\n",
    "    # print(\"Pc = %.3f\"%(pc))\n",
    "    # print(\"Pam = %.3f\"%(pam))"
   ]
  },
  {
   "cell_type": "code",
   "execution_count": 8,
   "metadata": {},
   "outputs": [
    {
     "data": {
      "application/vnd.jupyter.widget-view+json": {
       "model_id": "4bd12e48578b48c9a72198afc2cacf15",
       "version_major": 2,
       "version_minor": 0
      },
      "text/plain": [
       "interactive(children=(IntSlider(value=50, description='wc'), FloatSlider(value=2.0, description='ac', max=5.0)…"
      ]
     },
     "metadata": {},
     "output_type": "display_data"
    }
   ],
   "source": [
    "wm = [1, 1.5, 2, 3, 4.4, 4, 5, 5.7]\n",
    "am = [.2, .1, 1.3, .2, .3, 0.4, .2, 1.8]\n",
    "sampling_frequency = 500\n",
    "@interact_manual\n",
    "def multi_tone_mod_interact(wc=(0, 100, 1), ac=(0, 5, 0.1), mod_type=[\"simple\", \"DSBSC\", \"SSBSC\"]):\n",
    "    multi_tone_mod(wm, am, wc, ac, sampling_frequency ,mod_type)"
   ]
  },
  {
   "cell_type": "markdown",
   "metadata": {},
   "source": [
    "# Any baseband signal"
   ]
  },
  {
   "cell_type": "code",
   "execution_count": 4,
   "metadata": {},
   "outputs": [],
   "source": [
    "def any_baseband(x, baseband, wc=50, ac=2, sampling_freq=200, mod_type=\"simple\"):\n",
    "    plt.close()\n",
    "    \n",
    "    carrier = ac*np.sin(2*np.pi*wc*x)\n",
    "    ffx = np.fft.fftfreq(len(x), 1/sampling_freq)\n",
    "    bb_ft = np.fft.fft(baseband)/len(baseband)\n",
    "    c_ft = np.fft.fft(carrier)/len(baseband)\n",
    "    \n",
    "    \n",
    "    fig, ax = plt.subplots(3, 2)\n",
    "    ax[0][0].plot(x, baseband)\n",
    "    ax[0][0].set_title(\"Baseband Signal\")\n",
    "    ax[0][1].plot(ffx, np.absolute(bb_ft))\n",
    "    ax[0][1].set_title(\"Baseband Signal Fourier Transform\")\n",
    "\n",
    "    ax[1][0].plot(x, carrier)\n",
    "    ax[1][0].set_title(\"Carrier Signal\")\n",
    "    ax[1][1].plot(ffx, np.absolute(c_ft))\n",
    "    ax[1][1].set_title(\"Carrier Signal Fourier Transform\")\n",
    "\n",
    "\n",
    "    if mod_type == \"simple\":\n",
    "        modulated_signal = (ac + baseband)*np.sin(2*np.pi*wc*x)\n",
    "    elif mod_type == \"DSBSC\":\n",
    "        modulated_signal = baseband*np.sin(2*np.pi*wc*x)\n",
    "    elif mod_type == \"SSBSC\":\n",
    "        modulated_signal = baseband*np.sin(2*np.pi*wc*x)\n",
    "        sos = signal.butter(50, 'highpass', output='sos', fs=sampling_freq)\n",
    "        modulated_signal = signal.sosfilt(sos, modulated_signal)\n",
    "\n",
    "    mod_ft = np.fft.fft(modulated_signal)/len(modulated_signal)\n",
    "\n",
    "    ax[2][0].plot(x, modulated_signal)\n",
    "    ax[2][0].set_title(\"Modulated Signal\")\n",
    "    ax[2][1].plot(ffx, np.absolute(mod_ft))\n",
    "    ax[2][1].set_title(\"Modulated Signal Fourier Transform\")\n",
    "\n",
    "    \n",
    "    fig.set_figwidth(16)\n",
    "    fig.set_figheight(8)\n",
    "    fig.tight_layout(pad=5.0)\n"
   ]
  },
  {
   "cell_type": "code",
   "execution_count": 5,
   "metadata": {},
   "outputs": [
    {
     "data": {
      "application/vnd.jupyter.widget-view+json": {
       "model_id": "c42e91c5d1964795b83880ab9e9165a0",
       "version_major": 2,
       "version_minor": 0
      },
      "text/plain": [
       "interactive(children=(IntSlider(value=20, description='wc'), FloatSlider(value=2.0, description='ac', max=5.0)…"
      ]
     },
     "metadata": {},
     "output_type": "display_data"
    }
   ],
   "source": [
    "sampling_frequency = 500\n",
    "x = np.arange(-4, 4, 1/sampling_frequency)\n",
    "baseband_signal = np.sinc(10*x)**2\n",
    "\n",
    "@interact_manual(wm=(0, 10), wc=(0, 100), am=(0, 5, 0.1), ac=(0, 5, 0.1))\n",
    "def any_baseband_interact(wc=20, ac=2, mod_type=[\"simple\", \"DSBSC\"]): \n",
    "    any_baseband(x, baseband_signal, wc, ac, sampling_frequency, mod_type)\n",
    "    "
   ]
  },
  {
   "cell_type": "markdown",
   "metadata": {},
   "source": [
    "# Demodulation"
   ]
  },
  {
   "cell_type": "code",
   "execution_count": 3,
   "metadata": {},
   "outputs": [
    {
     "data": {
      "application/vnd.jupyter.widget-view+json": {
       "model_id": "da735d82911f424d87b73c10db80bdf0",
       "version_major": 2,
       "version_minor": 0
      },
      "text/plain": [
       "interactive(children=(IntSlider(value=50, description='fc'), IntSlider(value=2, description='ac', max=5), IntS…"
      ]
     },
     "metadata": {},
     "output_type": "display_data"
    }
   ],
   "source": [
    "def any_baseband(x, baseband, fc=50, ac=2, sampling_freq=200, lpf_freq=10):\n",
    "    plt.close()\n",
    "    \n",
    "    carrier = ac*np.cos(2*np.pi*fc*x)\n",
    "    ffx = np.fft.fftfreq(len(x), 1/sampling_freq)\n",
    "    bb_ft = np.fft.fft(baseband)/len(baseband)\n",
    "    c_ft = np.fft.fft(carrier)/len(baseband)\n",
    "    \n",
    "    \n",
    "    fig, ax = plt.subplots(5, 2)\n",
    "    ax[0][0].plot(x, baseband)\n",
    "    ax[0][0].set_title(\"Baseband Signal\")\n",
    "    ax[0][1].plot(ffx, np.absolute(bb_ft))\n",
    "    ax[0][1].set_title(\"Baseband Signal Fourier Transform\")\n",
    "\n",
    "    ax[1][0].plot(x, carrier)\n",
    "    ax[1][0].set_title(\"Carrier Signal\")\n",
    "    ax[1][1].plot(ffx, np.absolute(c_ft))\n",
    "    ax[1][1].set_title(\"Carrier Signal Fourier Transform\")\n",
    "\n",
    "\n",
    "\n",
    "    modulated_signal = baseband*carrier\n",
    "\n",
    "\n",
    "    mod_ft = np.fft.fft(modulated_signal)/len(modulated_signal)\n",
    "\n",
    "    ax[2][0].plot(x, modulated_signal)\n",
    "    ax[2][0].set_title(\"Modulated Signal\")\n",
    "    ax[2][1].plot(ffx, np.absolute(mod_ft))\n",
    "    ax[2][1].set_title(\"Modulated Signal Fourier Transform\")\n",
    "\n",
    "    intermediate_signal = modulated_signal*np.cos(2*np.pi*fc*x)\n",
    "    i_ft = np.fft.fft(intermediate_signal)/len(intermediate_signal)\n",
    "\n",
    "    ax[3][0].plot(x, intermediate_signal)\n",
    "    ax[3][0].set_title(\"Intermediate Signal\")\n",
    "    ax[3][1].plot(ffx, np.absolute(i_ft))\n",
    "    ax[3][1].set_title(\"Intermediate Signal Fourier Transform\")\n",
    "    \n",
    "    lpf = []\n",
    "    for xi in ffx:\n",
    "        if np.abs(xi) <= lpf_freq:\n",
    "            lpf.append(1)\n",
    "        else:\n",
    "            lpf.append(0)\n",
    "    \n",
    "    lpf = np.array(lpf)\n",
    "    demod_ft = i_ft*lpf\n",
    "    demod_sig = np.fft.ifft(demod_ft)*len(demod_ft)\n",
    "\n",
    "    ax[4][0].plot(x, demod_sig)\n",
    "    ax[4][1].plot(ffx, np.abs(demod_ft))\n",
    "\n",
    "    \n",
    "    fig.set_figwidth(16)\n",
    "    fig.set_figheight(20)\n",
    "    fig.tight_layout(pad=5.0)\n",
    "\n",
    "sampling_frequency = 500\n",
    "x = np.arange(-4, 4, 1/sampling_frequency)\n",
    "baseband_signal = np.sinc(30*x)*2\n",
    "\n",
    "@interact_manual()\n",
    "def any_baseband_interact(fc=(0, 100, 1), ac=(0, 5, 1), lpf_freq=(0, 20, 1)): \n",
    "    any_baseband(x, baseband_signal, fc, ac, sampling_frequency, lpf_freq)"
   ]
  },
  {
   "cell_type": "code",
   "execution_count": 14,
   "metadata": {},
   "outputs": [
    {
     "data": {
      "application/vnd.jupyter.widget-view+json": {
       "model_id": "8d45463fbace4ee4be2f429b50f11782",
       "version_major": 2,
       "version_minor": 0
      },
      "text/plain": [
       "Canvas(toolbar=Toolbar(toolitems=[('Home', 'Reset original view', 'home', 'home'), ('Back', 'Back to previous …"
      ]
     },
     "metadata": {},
     "output_type": "display_data"
    },
    {
     "data": {
      "text/plain": [
       "[<matplotlib.lines.Line2D at 0x174634cfe50>]"
      ]
     },
     "execution_count": 14,
     "metadata": {},
     "output_type": "execute_result"
    }
   ],
   "source": [
    "x = np.arange(0, 3, 1/100)\n",
    "sig = 3*np.sin(2*np.pi*4*x) + 2*np.sin(2*np.pi*3*x) + 5*np.sin(2*np.pi*5*x)\n",
    "plt.close()\n",
    "plt.plot(x, sig)"
   ]
  },
  {
   "cell_type": "code",
   "execution_count": 15,
   "metadata": {},
   "outputs": [
    {
     "data": {
      "application/vnd.jupyter.widget-view+json": {
       "model_id": "222eb4a43b1a42baab42c3f4c8dcb641",
       "version_major": 2,
       "version_minor": 0
      },
      "text/plain": [
       "Canvas(toolbar=Toolbar(toolitems=[('Home', 'Reset original view', 'home', 'home'), ('Back', 'Back to previous …"
      ]
     },
     "metadata": {},
     "output_type": "display_data"
    },
    {
     "data": {
      "text/plain": [
       "[<matplotlib.lines.Line2D at 0x174639016d0>]"
      ]
     },
     "execution_count": 15,
     "metadata": {},
     "output_type": "execute_result"
    }
   ],
   "source": [
    "ft = np.fft.fft(sig)\n",
    "plt.close()\n",
    "plt.plot(np.abs(ft))"
   ]
  },
  {
   "cell_type": "code",
   "execution_count": 11,
   "metadata": {},
   "outputs": [
    {
     "data": {
      "application/vnd.jupyter.widget-view+json": {
       "model_id": "15cf7fe501954cd0b193ffc5468a7d83",
       "version_major": 2,
       "version_minor": 0
      },
      "text/plain": [
       "Canvas(toolbar=Toolbar(toolitems=[('Home', 'Reset original view', 'home', 'home'), ('Back', 'Back to previous …"
      ]
     },
     "metadata": {},
     "output_type": "display_data"
    },
    {
     "data": {
      "text/plain": [
       "[<matplotlib.lines.Line2D at 0x17461846310>]"
      ]
     },
     "execution_count": 11,
     "metadata": {},
     "output_type": "execute_result"
    }
   ],
   "source": [
    "ft_s = np.fft.fftshift(ft)\n",
    "plt.close()\n",
    "plt.plot(np.abs(ft_s))"
   ]
  },
  {
   "cell_type": "code",
   "execution_count": 12,
   "metadata": {},
   "outputs": [
    {
     "data": {
      "application/vnd.jupyter.widget-view+json": {
       "model_id": "6b93590699ed41d9b46bff4e9f5ca09f",
       "version_major": 2,
       "version_minor": 0
      },
      "text/plain": [
       "Canvas(toolbar=Toolbar(toolitems=[('Home', 'Reset original view', 'home', 'home'), ('Back', 'Back to previous …"
      ]
     },
     "metadata": {},
     "output_type": "display_data"
    },
    {
     "data": {
      "text/plain": [
       "[<matplotlib.lines.Line2D at 0x17461c60f40>]"
      ]
     },
     "execution_count": 12,
     "metadata": {},
     "output_type": "execute_result"
    }
   ],
   "source": [
    "ftx = np.fft.fftfreq(len(x), 1/100)\n",
    "plt.close()\n",
    "plt.plot(ftx, abs(ft))"
   ]
  },
  {
   "cell_type": "code",
   "execution_count": 13,
   "metadata": {},
   "outputs": [
    {
     "data": {
      "application/vnd.jupyter.widget-view+json": {
       "model_id": "64e37ed1693040bcb269a54870356703",
       "version_major": 2,
       "version_minor": 0
      },
      "text/plain": [
       "Canvas(toolbar=Toolbar(toolitems=[('Home', 'Reset original view', 'home', 'home'), ('Back', 'Back to previous …"
      ]
     },
     "metadata": {},
     "output_type": "display_data"
    },
    {
     "data": {
      "text/plain": [
       "[<matplotlib.lines.Line2D at 0x174620b0e50>]"
      ]
     },
     "execution_count": 13,
     "metadata": {},
     "output_type": "execute_result"
    }
   ],
   "source": [
    "ftx_s = np.fft.fftshift(ftx)\n",
    "plt.close()\n",
    "plt.plot(ftx_s, np.abs(ft_s))"
   ]
  },
  {
   "cell_type": "markdown",
   "metadata": {},
   "source": []
  }
 ],
 "metadata": {
  "interpreter": {
   "hash": "ee5cc6fef2d70a7e71ee3826687cbd150f18158e0b1eef11d4f4f92bb920e304"
  },
  "kernelspec": {
   "display_name": "Python 3.9.5 64-bit",
   "name": "python3"
  },
  "language_info": {
   "codemirror_mode": {
    "name": "ipython",
    "version": 3
   },
   "file_extension": ".py",
   "mimetype": "text/x-python",
   "name": "python",
   "nbconvert_exporter": "python",
   "pygments_lexer": "ipython3",
   "version": "3.9.5"
  }
 },
 "nbformat": 4,
 "nbformat_minor": 2
}
