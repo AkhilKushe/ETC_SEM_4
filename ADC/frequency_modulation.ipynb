{
 "cells": [
  {
   "cell_type": "code",
   "execution_count": 1,
   "metadata": {},
   "outputs": [],
   "source": [
    "from scipy import signal\n",
    "import numpy as np\n",
    "import matplotlib.pyplot as plt\n",
    "from ipywidgets import interact_manual\n",
    "\n",
    "%matplotlib ipympl"
   ]
  },
  {
   "cell_type": "code",
   "execution_count": 5,
   "metadata": {},
   "outputs": [
    {
     "data": {
      "application/vnd.jupyter.widget-view+json": {
       "model_id": "1c16a71a799e42fdb372553f33df3131",
       "version_major": 2,
       "version_minor": 0
      },
      "text/plain": [
       "interactive(children=(FloatSlider(value=2.0, description='vm', max=5.0, step=0.5), IntSlider(value=5, descript…"
      ]
     },
     "metadata": {},
     "output_type": "display_data"
    }
   ],
   "source": [
    "@interact_manual\n",
    "def freq_mod(vm=(0, 5, 0.5), fm=(0, 10), vc=(0, 10), fc=(0, 30), fs=(0, 300), k=(0, 10, 0.1)):\n",
    "    plt.close()\n",
    "    x = np.arange(0, 2, 1/fs)\n",
    "\n",
    "    msg_signal = -vm*np.sin(2*np.pi*fm*x)\n",
    "    msg_ft = np.fft.fft(msg_signal)/len(x)\n",
    "\n",
    "    carrier = vc*np.cos(2*np.pi*fc*x)\n",
    "    carrier_ft = np.fft.fft(carrier)/len(x)\n",
    "\n",
    "    m = (k*vm)/fm\n",
    "    df = k*vm\n",
    "\n",
    "    fm_signal = vc*np.cos(2*np.pi*fc*x + m*np.cos(2*np.pi*fm*x))\n",
    "    fm_ft = np.fft.fft(fm_signal)/len(x)\n",
    "\n",
    "    ffx = np.fft.fftfreq(len(x), 1/fs)\n",
    "\n",
    "    fig, ax = plt.subplots(3, 2)\n",
    "    ax[0][0].plot(x, msg_signal)\n",
    "    ax[0][1].plot(ffx, np.abs(msg_ft))\n",
    "\n",
    "    ax[1][0].plot(x, carrier)\n",
    "    ax[1][1].plot(ffx, np.abs(carrier_ft))\n",
    "\n",
    "    ax[2][0].plot(x, fm_signal)\n",
    "    ax[2][1].plot(ffx, np.abs(fm_ft))\n",
    "\n",
    "    fig.set_figwidth(15)\n",
    "    fig.set_figheight(6)\n",
    "    fig.tight_layout(pad=1.0)\n",
    "\n",
    "    print(\"Modulating depth, mf = \", m)\n",
    "    print(\"Maximum deviation, df = \", df)\n",
    "    print(\"Frequency sensitivity, kf = \", k)"
   ]
  }
 ],
 "metadata": {
  "interpreter": {
   "hash": "ee5cc6fef2d70a7e71ee3826687cbd150f18158e0b1eef11d4f4f92bb920e304"
  },
  "kernelspec": {
   "display_name": "Python 3.9.5 64-bit",
   "name": "python3"
  },
  "language_info": {
   "codemirror_mode": {
    "name": "ipython",
    "version": 3
   },
   "file_extension": ".py",
   "mimetype": "text/x-python",
   "name": "python",
   "nbconvert_exporter": "python",
   "pygments_lexer": "ipython3",
   "version": "3.9.5"
  },
  "orig_nbformat": 4
 },
 "nbformat": 4,
 "nbformat_minor": 2
}
